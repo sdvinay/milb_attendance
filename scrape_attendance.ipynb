{
 "cells": [
  {
   "cell_type": "code",
   "execution_count": 1,
   "metadata": {},
   "outputs": [],
   "source": [
    "import pandas as pd\n",
    "import json\n",
    "import requests\n",
    "import datetime"
   ]
  },
  {
   "cell_type": "code",
   "execution_count": 2,
   "metadata": {},
   "outputs": [],
   "source": [
    "import scrape_attendance as sa"
   ]
  },
  {
   "cell_type": "code",
   "execution_count": 3,
   "metadata": {},
   "outputs": [
    {
     "data": {
      "text/plain": [
       "'https://statsapi.mlb.com/api/v1/schedule?language=en&sportId=11&season=2022&sortBy=gameDate&hydrate=gameInfo'"
      ]
     },
     "execution_count": 3,
     "metadata": {},
     "output_type": "execute_result"
    }
   ],
   "source": [
    "schedule_url = sa.get_schedule_url(11, 2022)\n",
    "schedule_url"
   ]
  },
  {
   "cell_type": "code",
   "execution_count": 5,
   "metadata": {},
   "outputs": [
    {
     "ename": "KeyboardInterrupt",
     "evalue": "",
     "output_type": "error",
     "traceback": [
      "\u001b[0;31m---------------------------------------------------------------------------\u001b[0m",
      "\u001b[0;31mKeyboardInterrupt\u001b[0m                         Traceback (most recent call last)",
      "\u001b[0;32m<ipython-input-5-9ae453389007>\u001b[0m in \u001b[0;36m<module>\u001b[0;34m\u001b[0m\n\u001b[0;32m----> 1\u001b[0;31m \u001b[0mr\u001b[0m \u001b[0;34m=\u001b[0m \u001b[0mrequests\u001b[0m\u001b[0;34m.\u001b[0m\u001b[0mget\u001b[0m\u001b[0;34m(\u001b[0m\u001b[0mschedule_url\u001b[0m\u001b[0;34m)\u001b[0m\u001b[0;34m\u001b[0m\u001b[0;34m\u001b[0m\u001b[0m\n\u001b[0m\u001b[1;32m      2\u001b[0m \u001b[0mr\u001b[0m\u001b[0;34m\u001b[0m\u001b[0;34m\u001b[0m\u001b[0m\n",
      "\u001b[0;32m/Applications/anaconda3/lib/python3.8/site-packages/requests/api.py\u001b[0m in \u001b[0;36mget\u001b[0;34m(url, params, **kwargs)\u001b[0m\n\u001b[1;32m     74\u001b[0m \u001b[0;34m\u001b[0m\u001b[0m\n\u001b[1;32m     75\u001b[0m     \u001b[0mkwargs\u001b[0m\u001b[0;34m.\u001b[0m\u001b[0msetdefault\u001b[0m\u001b[0;34m(\u001b[0m\u001b[0;34m'allow_redirects'\u001b[0m\u001b[0;34m,\u001b[0m \u001b[0;32mTrue\u001b[0m\u001b[0;34m)\u001b[0m\u001b[0;34m\u001b[0m\u001b[0;34m\u001b[0m\u001b[0m\n\u001b[0;32m---> 76\u001b[0;31m     \u001b[0;32mreturn\u001b[0m \u001b[0mrequest\u001b[0m\u001b[0;34m(\u001b[0m\u001b[0;34m'get'\u001b[0m\u001b[0;34m,\u001b[0m \u001b[0murl\u001b[0m\u001b[0;34m,\u001b[0m \u001b[0mparams\u001b[0m\u001b[0;34m=\u001b[0m\u001b[0mparams\u001b[0m\u001b[0;34m,\u001b[0m \u001b[0;34m**\u001b[0m\u001b[0mkwargs\u001b[0m\u001b[0;34m)\u001b[0m\u001b[0;34m\u001b[0m\u001b[0;34m\u001b[0m\u001b[0m\n\u001b[0m\u001b[1;32m     77\u001b[0m \u001b[0;34m\u001b[0m\u001b[0m\n\u001b[1;32m     78\u001b[0m \u001b[0;34m\u001b[0m\u001b[0m\n",
      "\u001b[0;32m/Applications/anaconda3/lib/python3.8/site-packages/requests/api.py\u001b[0m in \u001b[0;36mrequest\u001b[0;34m(method, url, **kwargs)\u001b[0m\n\u001b[1;32m     59\u001b[0m     \u001b[0;31m# cases, and look like a memory leak in others.\u001b[0m\u001b[0;34m\u001b[0m\u001b[0;34m\u001b[0m\u001b[0;34m\u001b[0m\u001b[0m\n\u001b[1;32m     60\u001b[0m     \u001b[0;32mwith\u001b[0m \u001b[0msessions\u001b[0m\u001b[0;34m.\u001b[0m\u001b[0mSession\u001b[0m\u001b[0;34m(\u001b[0m\u001b[0;34m)\u001b[0m \u001b[0;32mas\u001b[0m \u001b[0msession\u001b[0m\u001b[0;34m:\u001b[0m\u001b[0;34m\u001b[0m\u001b[0;34m\u001b[0m\u001b[0m\n\u001b[0;32m---> 61\u001b[0;31m         \u001b[0;32mreturn\u001b[0m \u001b[0msession\u001b[0m\u001b[0;34m.\u001b[0m\u001b[0mrequest\u001b[0m\u001b[0;34m(\u001b[0m\u001b[0mmethod\u001b[0m\u001b[0;34m=\u001b[0m\u001b[0mmethod\u001b[0m\u001b[0;34m,\u001b[0m \u001b[0murl\u001b[0m\u001b[0;34m=\u001b[0m\u001b[0murl\u001b[0m\u001b[0;34m,\u001b[0m \u001b[0;34m**\u001b[0m\u001b[0mkwargs\u001b[0m\u001b[0;34m)\u001b[0m\u001b[0;34m\u001b[0m\u001b[0;34m\u001b[0m\u001b[0m\n\u001b[0m\u001b[1;32m     62\u001b[0m \u001b[0;34m\u001b[0m\u001b[0m\n\u001b[1;32m     63\u001b[0m \u001b[0;34m\u001b[0m\u001b[0m\n",
      "\u001b[0;32m/Applications/anaconda3/lib/python3.8/site-packages/requests/sessions.py\u001b[0m in \u001b[0;36mrequest\u001b[0;34m(self, method, url, params, data, headers, cookies, files, auth, timeout, allow_redirects, proxies, hooks, stream, verify, cert, json)\u001b[0m\n\u001b[1;32m    540\u001b[0m         }\n\u001b[1;32m    541\u001b[0m         \u001b[0msend_kwargs\u001b[0m\u001b[0;34m.\u001b[0m\u001b[0mupdate\u001b[0m\u001b[0;34m(\u001b[0m\u001b[0msettings\u001b[0m\u001b[0;34m)\u001b[0m\u001b[0;34m\u001b[0m\u001b[0;34m\u001b[0m\u001b[0m\n\u001b[0;32m--> 542\u001b[0;31m         \u001b[0mresp\u001b[0m \u001b[0;34m=\u001b[0m \u001b[0mself\u001b[0m\u001b[0;34m.\u001b[0m\u001b[0msend\u001b[0m\u001b[0;34m(\u001b[0m\u001b[0mprep\u001b[0m\u001b[0;34m,\u001b[0m \u001b[0;34m**\u001b[0m\u001b[0msend_kwargs\u001b[0m\u001b[0;34m)\u001b[0m\u001b[0;34m\u001b[0m\u001b[0;34m\u001b[0m\u001b[0m\n\u001b[0m\u001b[1;32m    543\u001b[0m \u001b[0;34m\u001b[0m\u001b[0m\n\u001b[1;32m    544\u001b[0m         \u001b[0;32mreturn\u001b[0m \u001b[0mresp\u001b[0m\u001b[0;34m\u001b[0m\u001b[0;34m\u001b[0m\u001b[0m\n",
      "\u001b[0;32m/Applications/anaconda3/lib/python3.8/site-packages/requests/sessions.py\u001b[0m in \u001b[0;36msend\u001b[0;34m(self, request, **kwargs)\u001b[0m\n\u001b[1;32m    653\u001b[0m \u001b[0;34m\u001b[0m\u001b[0m\n\u001b[1;32m    654\u001b[0m         \u001b[0;31m# Send the request\u001b[0m\u001b[0;34m\u001b[0m\u001b[0;34m\u001b[0m\u001b[0;34m\u001b[0m\u001b[0m\n\u001b[0;32m--> 655\u001b[0;31m         \u001b[0mr\u001b[0m \u001b[0;34m=\u001b[0m \u001b[0madapter\u001b[0m\u001b[0;34m.\u001b[0m\u001b[0msend\u001b[0m\u001b[0;34m(\u001b[0m\u001b[0mrequest\u001b[0m\u001b[0;34m,\u001b[0m \u001b[0;34m**\u001b[0m\u001b[0mkwargs\u001b[0m\u001b[0;34m)\u001b[0m\u001b[0;34m\u001b[0m\u001b[0;34m\u001b[0m\u001b[0m\n\u001b[0m\u001b[1;32m    656\u001b[0m \u001b[0;34m\u001b[0m\u001b[0m\n\u001b[1;32m    657\u001b[0m         \u001b[0;31m# Total elapsed time of the request (approximately)\u001b[0m\u001b[0;34m\u001b[0m\u001b[0;34m\u001b[0m\u001b[0;34m\u001b[0m\u001b[0m\n",
      "\u001b[0;32m/Applications/anaconda3/lib/python3.8/site-packages/requests/adapters.py\u001b[0m in \u001b[0;36msend\u001b[0;34m(self, request, stream, timeout, verify, cert, proxies)\u001b[0m\n\u001b[1;32m    437\u001b[0m         \u001b[0;32mtry\u001b[0m\u001b[0;34m:\u001b[0m\u001b[0;34m\u001b[0m\u001b[0;34m\u001b[0m\u001b[0m\n\u001b[1;32m    438\u001b[0m             \u001b[0;32mif\u001b[0m \u001b[0;32mnot\u001b[0m \u001b[0mchunked\u001b[0m\u001b[0;34m:\u001b[0m\u001b[0;34m\u001b[0m\u001b[0;34m\u001b[0m\u001b[0m\n\u001b[0;32m--> 439\u001b[0;31m                 resp = conn.urlopen(\n\u001b[0m\u001b[1;32m    440\u001b[0m                     \u001b[0mmethod\u001b[0m\u001b[0;34m=\u001b[0m\u001b[0mrequest\u001b[0m\u001b[0;34m.\u001b[0m\u001b[0mmethod\u001b[0m\u001b[0;34m,\u001b[0m\u001b[0;34m\u001b[0m\u001b[0;34m\u001b[0m\u001b[0m\n\u001b[1;32m    441\u001b[0m                     \u001b[0murl\u001b[0m\u001b[0;34m=\u001b[0m\u001b[0murl\u001b[0m\u001b[0;34m,\u001b[0m\u001b[0;34m\u001b[0m\u001b[0;34m\u001b[0m\u001b[0m\n",
      "\u001b[0;32m/Applications/anaconda3/lib/python3.8/site-packages/urllib3/connectionpool.py\u001b[0m in \u001b[0;36murlopen\u001b[0;34m(self, method, url, body, headers, retries, redirect, assert_same_host, timeout, pool_timeout, release_conn, chunked, body_pos, **response_kw)\u001b[0m\n\u001b[1;32m    697\u001b[0m \u001b[0;34m\u001b[0m\u001b[0m\n\u001b[1;32m    698\u001b[0m             \u001b[0;31m# Make the request on the httplib connection object.\u001b[0m\u001b[0;34m\u001b[0m\u001b[0;34m\u001b[0m\u001b[0;34m\u001b[0m\u001b[0m\n\u001b[0;32m--> 699\u001b[0;31m             httplib_response = self._make_request(\n\u001b[0m\u001b[1;32m    700\u001b[0m                 \u001b[0mconn\u001b[0m\u001b[0;34m,\u001b[0m\u001b[0;34m\u001b[0m\u001b[0;34m\u001b[0m\u001b[0m\n\u001b[1;32m    701\u001b[0m                 \u001b[0mmethod\u001b[0m\u001b[0;34m,\u001b[0m\u001b[0;34m\u001b[0m\u001b[0;34m\u001b[0m\u001b[0m\n",
      "\u001b[0;32m/Applications/anaconda3/lib/python3.8/site-packages/urllib3/connectionpool.py\u001b[0m in \u001b[0;36m_make_request\u001b[0;34m(self, conn, method, url, timeout, chunked, **httplib_request_kw)\u001b[0m\n\u001b[1;32m    380\u001b[0m         \u001b[0;31m# Trigger any extra validation we need to do.\u001b[0m\u001b[0;34m\u001b[0m\u001b[0;34m\u001b[0m\u001b[0;34m\u001b[0m\u001b[0m\n\u001b[1;32m    381\u001b[0m         \u001b[0;32mtry\u001b[0m\u001b[0;34m:\u001b[0m\u001b[0;34m\u001b[0m\u001b[0;34m\u001b[0m\u001b[0m\n\u001b[0;32m--> 382\u001b[0;31m             \u001b[0mself\u001b[0m\u001b[0;34m.\u001b[0m\u001b[0m_validate_conn\u001b[0m\u001b[0;34m(\u001b[0m\u001b[0mconn\u001b[0m\u001b[0;34m)\u001b[0m\u001b[0;34m\u001b[0m\u001b[0;34m\u001b[0m\u001b[0m\n\u001b[0m\u001b[1;32m    383\u001b[0m         \u001b[0;32mexcept\u001b[0m \u001b[0;34m(\u001b[0m\u001b[0mSocketTimeout\u001b[0m\u001b[0;34m,\u001b[0m \u001b[0mBaseSSLError\u001b[0m\u001b[0;34m)\u001b[0m \u001b[0;32mas\u001b[0m \u001b[0me\u001b[0m\u001b[0;34m:\u001b[0m\u001b[0;34m\u001b[0m\u001b[0;34m\u001b[0m\u001b[0m\n\u001b[1;32m    384\u001b[0m             \u001b[0;31m# Py2 raises this as a BaseSSLError, Py3 raises it as socket timeout.\u001b[0m\u001b[0;34m\u001b[0m\u001b[0;34m\u001b[0m\u001b[0;34m\u001b[0m\u001b[0m\n",
      "\u001b[0;32m/Applications/anaconda3/lib/python3.8/site-packages/urllib3/connectionpool.py\u001b[0m in \u001b[0;36m_validate_conn\u001b[0;34m(self, conn)\u001b[0m\n\u001b[1;32m   1008\u001b[0m         \u001b[0;31m# Force connect early to allow us to validate the connection.\u001b[0m\u001b[0;34m\u001b[0m\u001b[0;34m\u001b[0m\u001b[0;34m\u001b[0m\u001b[0m\n\u001b[1;32m   1009\u001b[0m         \u001b[0;32mif\u001b[0m \u001b[0;32mnot\u001b[0m \u001b[0mgetattr\u001b[0m\u001b[0;34m(\u001b[0m\u001b[0mconn\u001b[0m\u001b[0;34m,\u001b[0m \u001b[0;34m\"sock\"\u001b[0m\u001b[0;34m,\u001b[0m \u001b[0;32mNone\u001b[0m\u001b[0;34m)\u001b[0m\u001b[0;34m:\u001b[0m  \u001b[0;31m# AppEngine might not have  `.sock`\u001b[0m\u001b[0;34m\u001b[0m\u001b[0;34m\u001b[0m\u001b[0m\n\u001b[0;32m-> 1010\u001b[0;31m             \u001b[0mconn\u001b[0m\u001b[0;34m.\u001b[0m\u001b[0mconnect\u001b[0m\u001b[0;34m(\u001b[0m\u001b[0;34m)\u001b[0m\u001b[0;34m\u001b[0m\u001b[0;34m\u001b[0m\u001b[0m\n\u001b[0m\u001b[1;32m   1011\u001b[0m \u001b[0;34m\u001b[0m\u001b[0m\n\u001b[1;32m   1012\u001b[0m         \u001b[0;32mif\u001b[0m \u001b[0;32mnot\u001b[0m \u001b[0mconn\u001b[0m\u001b[0;34m.\u001b[0m\u001b[0mis_verified\u001b[0m\u001b[0;34m:\u001b[0m\u001b[0;34m\u001b[0m\u001b[0;34m\u001b[0m\u001b[0m\n",
      "\u001b[0;32m/Applications/anaconda3/lib/python3.8/site-packages/urllib3/connection.py\u001b[0m in \u001b[0;36mconnect\u001b[0;34m(self)\u001b[0m\n\u001b[1;32m    351\u001b[0m     \u001b[0;32mdef\u001b[0m \u001b[0mconnect\u001b[0m\u001b[0;34m(\u001b[0m\u001b[0mself\u001b[0m\u001b[0;34m)\u001b[0m\u001b[0;34m:\u001b[0m\u001b[0;34m\u001b[0m\u001b[0;34m\u001b[0m\u001b[0m\n\u001b[1;32m    352\u001b[0m         \u001b[0;31m# Add certificate verification\u001b[0m\u001b[0;34m\u001b[0m\u001b[0;34m\u001b[0m\u001b[0;34m\u001b[0m\u001b[0m\n\u001b[0;32m--> 353\u001b[0;31m         \u001b[0mconn\u001b[0m \u001b[0;34m=\u001b[0m \u001b[0mself\u001b[0m\u001b[0;34m.\u001b[0m\u001b[0m_new_conn\u001b[0m\u001b[0;34m(\u001b[0m\u001b[0;34m)\u001b[0m\u001b[0;34m\u001b[0m\u001b[0;34m\u001b[0m\u001b[0m\n\u001b[0m\u001b[1;32m    354\u001b[0m         \u001b[0mhostname\u001b[0m \u001b[0;34m=\u001b[0m \u001b[0mself\u001b[0m\u001b[0;34m.\u001b[0m\u001b[0mhost\u001b[0m\u001b[0;34m\u001b[0m\u001b[0;34m\u001b[0m\u001b[0m\n\u001b[1;32m    355\u001b[0m         \u001b[0mtls_in_tls\u001b[0m \u001b[0;34m=\u001b[0m \u001b[0;32mFalse\u001b[0m\u001b[0;34m\u001b[0m\u001b[0;34m\u001b[0m\u001b[0m\n",
      "\u001b[0;32m/Applications/anaconda3/lib/python3.8/site-packages/urllib3/connection.py\u001b[0m in \u001b[0;36m_new_conn\u001b[0;34m(self)\u001b[0m\n\u001b[1;32m    167\u001b[0m \u001b[0;34m\u001b[0m\u001b[0m\n\u001b[1;32m    168\u001b[0m         \u001b[0;32mtry\u001b[0m\u001b[0;34m:\u001b[0m\u001b[0;34m\u001b[0m\u001b[0;34m\u001b[0m\u001b[0m\n\u001b[0;32m--> 169\u001b[0;31m             conn = connection.create_connection(\n\u001b[0m\u001b[1;32m    170\u001b[0m                 \u001b[0;34m(\u001b[0m\u001b[0mself\u001b[0m\u001b[0;34m.\u001b[0m\u001b[0m_dns_host\u001b[0m\u001b[0;34m,\u001b[0m \u001b[0mself\u001b[0m\u001b[0;34m.\u001b[0m\u001b[0mport\u001b[0m\u001b[0;34m)\u001b[0m\u001b[0;34m,\u001b[0m \u001b[0mself\u001b[0m\u001b[0;34m.\u001b[0m\u001b[0mtimeout\u001b[0m\u001b[0;34m,\u001b[0m \u001b[0;34m**\u001b[0m\u001b[0mextra_kw\u001b[0m\u001b[0;34m\u001b[0m\u001b[0;34m\u001b[0m\u001b[0m\n\u001b[1;32m    171\u001b[0m             )\n",
      "\u001b[0;32m/Applications/anaconda3/lib/python3.8/site-packages/urllib3/util/connection.py\u001b[0m in \u001b[0;36mcreate_connection\u001b[0;34m(address, timeout, source_address, socket_options)\u001b[0m\n\u001b[1;32m     84\u001b[0m             \u001b[0;32mif\u001b[0m \u001b[0msource_address\u001b[0m\u001b[0;34m:\u001b[0m\u001b[0;34m\u001b[0m\u001b[0;34m\u001b[0m\u001b[0m\n\u001b[1;32m     85\u001b[0m                 \u001b[0msock\u001b[0m\u001b[0;34m.\u001b[0m\u001b[0mbind\u001b[0m\u001b[0;34m(\u001b[0m\u001b[0msource_address\u001b[0m\u001b[0;34m)\u001b[0m\u001b[0;34m\u001b[0m\u001b[0;34m\u001b[0m\u001b[0m\n\u001b[0;32m---> 86\u001b[0;31m             \u001b[0msock\u001b[0m\u001b[0;34m.\u001b[0m\u001b[0mconnect\u001b[0m\u001b[0;34m(\u001b[0m\u001b[0msa\u001b[0m\u001b[0;34m)\u001b[0m\u001b[0;34m\u001b[0m\u001b[0;34m\u001b[0m\u001b[0m\n\u001b[0m\u001b[1;32m     87\u001b[0m             \u001b[0;32mreturn\u001b[0m \u001b[0msock\u001b[0m\u001b[0;34m\u001b[0m\u001b[0;34m\u001b[0m\u001b[0m\n\u001b[1;32m     88\u001b[0m \u001b[0;34m\u001b[0m\u001b[0m\n",
      "\u001b[0;31mKeyboardInterrupt\u001b[0m: "
     ]
    }
   ],
   "source": [
    "r = requests.get(schedule_url)\n",
    "r"
   ]
  },
  {
   "cell_type": "code",
   "execution_count": null,
   "metadata": {},
   "outputs": [
    {
     "data": {
      "text/plain": [
       "'/api/v1.1/game/666415/feed/live'"
      ]
     },
     "execution_count": 23,
     "metadata": {},
     "output_type": "execute_result"
    }
   ],
   "source": [
    "obj['dates'][0]['games'][0]['link']"
   ]
  },
  {
   "cell_type": "code",
   "execution_count": null,
   "metadata": {},
   "outputs": [],
   "source": [
    "game_id=666415"
   ]
  },
  {
   "cell_type": "code",
   "execution_count": null,
   "metadata": {},
   "outputs": [],
   "source": [
    "MLB_BASE_URL='https://statsapi.mlb.com'\n"
   ]
  },
  {
   "cell_type": "code",
   "execution_count": null,
   "metadata": {},
   "outputs": [
    {
     "data": {
      "text/plain": [
       "'https://statsapi.mlb.com/api/v1.1/game/666415/feed/live'"
      ]
     },
     "execution_count": 26,
     "metadata": {},
     "output_type": "execute_result"
    }
   ],
   "source": [
    "\n",
    "url = MLB_BASE_URL + obj['dates'][0]['games'][0]['link']\n",
    "url"
   ]
  },
  {
   "cell_type": "code",
   "execution_count": null,
   "metadata": {},
   "outputs": [
    {
     "data": {
      "text/plain": [
       "<Response [200]>"
      ]
     },
     "execution_count": 27,
     "metadata": {},
     "output_type": "execute_result"
    }
   ],
   "source": [
    "r = requests.get(url)\n",
    "r"
   ]
  },
  {
   "cell_type": "code",
   "execution_count": null,
   "metadata": {},
   "outputs": [
    {
     "data": {
      "text/plain": [
       "10145"
      ]
     },
     "execution_count": 28,
     "metadata": {},
     "output_type": "execute_result"
    }
   ],
   "source": [
    "r.json()['gameData']['gameInfo']['attendance']"
   ]
  },
  {
   "cell_type": "code",
   "execution_count": null,
   "metadata": {},
   "outputs": [
    {
     "data": {
      "text/plain": [
       "(422, 'Buffalo Bisons')"
      ]
     },
     "execution_count": 29,
     "metadata": {},
     "output_type": "execute_result"
    }
   ],
   "source": [
    "r.json()['gameData']['teams']['home']['id'], r.json()['gameData']['teams']['home']['name']"
   ]
  },
  {
   "cell_type": "code",
   "execution_count": null,
   "metadata": {},
   "outputs": [
    {
     "data": {
      "text/plain": [
       "(451, 'Iowa Cubs')"
      ]
     },
     "execution_count": 30,
     "metadata": {},
     "output_type": "execute_result"
    }
   ],
   "source": [
    "r.json()['gameData']['teams']['away']['id'], r.json()['gameData']['teams']['away']['name']"
   ]
  },
  {
   "cell_type": "code",
   "execution_count": null,
   "metadata": {},
   "outputs": [
    {
     "data": {
      "text/plain": [
       "'2022-04-05'"
      ]
     },
     "execution_count": 31,
     "metadata": {},
     "output_type": "execute_result"
    }
   ],
   "source": [
    "r.json()['gameData']['datetime']['originalDate']"
   ]
  },
  {
   "cell_type": "code",
   "execution_count": null,
   "metadata": {},
   "outputs": [
    {
     "name": "stdout",
     "output_type": "stream",
     "text": [
      "666415 2022-04-05 10145 451 Iowa Cubs 451 Iowa Cubs\n"
     ]
    }
   ],
   "source": [
    "print (game_id, r.json()['gameData']['datetime']['originalDate'], r.json()['gameData']['gameInfo']['attendance'], r.json()['gameData']['teams']['away']['id'], r.json()['gameData']['teams']['away']['name'], r.json()['gameData']['teams']['away']['id'], r.json()['gameData']['teams']['away']['name'])"
   ]
  },
  {
   "cell_type": "code",
   "execution_count": null,
   "metadata": {},
   "outputs": [],
   "source": [
    "import csv"
   ]
  },
  {
   "cell_type": "code",
   "execution_count": null,
   "metadata": {},
   "outputs": [],
   "source": [
    "def write_game_data(game_id, game_url, writer):\n",
    "    r = requests.get(game_url)\n",
    "\n",
    "    data = [game_id, r.json()['gameData']['datetime']['originalDate'], r.json()['gameData']['gameInfo']['attendance'],\n",
    "        r.json()['gameData']['teams']['home']['id'], r.json()['gameData']['teams']['home']['name'], \n",
    "        r.json()['gameData']['teams']['away']['id'], r.json()['gameData']['teams']['away']['name']]\n",
    "    writer.writerow(data)"
   ]
  },
  {
   "cell_type": "code",
   "execution_count": null,
   "metadata": {},
   "outputs": [],
   "source": [
    "with open('attendance.csv', 'w', newline='') as csvfile:\n",
    "    writer = csv.writer(csvfile, delimiter=',')\n",
    "    write_game_data(game_id, url, writer)"
   ]
  },
  {
   "cell_type": "code",
   "execution_count": null,
   "metadata": {},
   "outputs": [
    {
     "data": {
      "text/plain": [
       "666415"
      ]
     },
     "execution_count": 48,
     "metadata": {},
     "output_type": "execute_result"
    }
   ],
   "source": [
    "obj['dates'][0]['games'][0]['gamePk']"
   ]
  },
  {
   "cell_type": "code",
   "execution_count": null,
   "metadata": {},
   "outputs": [
    {
     "data": {
      "text/plain": [
       "'https://statsapi.mlb.com/api/v1.1/game/666415/feed/live'"
      ]
     },
     "execution_count": 50,
     "metadata": {},
     "output_type": "execute_result"
    }
   ],
   "source": [
    "MLB_BASE_URL +  obj['dates'][0]['games'][0]['link']"
   ]
  },
  {
   "cell_type": "code",
   "execution_count": null,
   "metadata": {},
   "outputs": [
    {
     "data": {
      "text/plain": [
       "95"
      ]
     },
     "execution_count": 80,
     "metadata": {},
     "output_type": "execute_result"
    }
   ],
   "source": [
    "all_games = [(gm['gamePk'], MLB_BASE_URL +  gm['link']) for dt in obj['dates'][0:6] for gm in dt['games']]\n",
    "len(all_games)"
   ]
  },
  {
   "cell_type": "code",
   "execution_count": null,
   "metadata": {},
   "outputs": [
    {
     "data": {
      "text/plain": [
       "15"
      ]
     },
     "execution_count": 73,
     "metadata": {},
     "output_type": "execute_result"
    }
   ],
   "source": [
    "all_games = [(gm['gamePk'], MLB_BASE_URL +  gm['link'])  for gm in obj['dates'][0]['games']]\n",
    "len(all_games)"
   ]
  },
  {
   "cell_type": "code",
   "execution_count": null,
   "metadata": {},
   "outputs": [
    {
     "name": "stdout",
     "output_type": "stream",
     "text": [
      "666415\n",
      "664476\n",
      "664589\n",
      "665458\n",
      "665576\n",
      "666070\n",
      "665849\n",
      "665715\n",
      "665487\n",
      "665309\n",
      "665604\n",
      "665133\n",
      "664604\n",
      "665004\n",
      "665767\n",
      "665589\n",
      "666374\n",
      "664475\n",
      "664588\n",
      "665395\n",
      "665575\n",
      "665848\n",
      "665664\n",
      "665477\n",
      "665306\n",
      "665132\n",
      "664600\n",
      "665015\n",
      "665759\n",
      "666051\n",
      "665457\n",
      "666069\n",
      "666051\n",
      "664474\n",
      "665574\n",
      "665841\n",
      "665476\n",
      "665543\n",
      "665307\n",
      "665102\n",
      "665040\n",
      "664599\n",
      "665758\n",
      "666407\n",
      "664612\n",
      "665663\n",
      "664717\n",
      "664612\n",
      "666391\n",
      "666407\n",
      "664483\n",
      "666068\n",
      "665843\n",
      "664321\n",
      "665681\n",
      "665573\n",
      "665520\n",
      "665327\n",
      "665542\n",
      "665106\n",
      "665023\n",
      "665730\n",
      "664603\n",
      "666362\n",
      "665626\n",
      "665612\n",
      "665662\n",
      "665663\n",
      "664481\n",
      "664602\n",
      "664603\n",
      "666042\n",
      "664716\n",
      "665840\n",
      "664355\n",
      "665051\n",
      "665519\n",
      "665318\n",
      "664953\n",
      "665738\n",
      "666414\n",
      "664354\n",
      "665572\n",
      "666041\n",
      "665680\n",
      "664515\n",
      "665047\n",
      "665341\n",
      "665541\n",
      "665518\n",
      "665857\n",
      "665737\n",
      "664958\n",
      "664601\n",
      "key error 664715\n"
     ]
    }
   ],
   "source": [
    "with open('attendance.csv', 'w', newline='') as csvfile:\n",
    "    writer = csv.writer(csvfile, delimiter=',')\n",
    "    for gm in all_games:\n",
    "        try:\n",
    "            write_game_data(gm[0], gm[1], writer)\n",
    "            print(gm[0])\n",
    "        except KeyError:\n",
    "            print(f\"key error {gm[0]}\")\n"
   ]
  },
  {
   "cell_type": "code",
   "execution_count": null,
   "metadata": {},
   "outputs": [
    {
     "data": {
      "text/plain": [
       "156"
      ]
     },
     "execution_count": 75,
     "metadata": {},
     "output_type": "execute_result"
    }
   ],
   "source": [
    "len()"
   ]
  },
  {
   "cell_type": "code",
   "execution_count": null,
   "metadata": {},
   "outputs": [
    {
     "data": {
      "text/plain": [
       "'2022-04-05'"
      ]
     },
     "execution_count": 78,
     "metadata": {},
     "output_type": "execute_result"
    }
   ],
   "source": [
    "obj['dates'][0]['date']"
   ]
  },
  {
   "cell_type": "code",
   "execution_count": null,
   "metadata": {},
   "outputs": [
    {
     "data": {
      "text/plain": [
       "['2022-04-05',\n",
       " '2022-04-06',\n",
       " '2022-04-07',\n",
       " '2022-04-08',\n",
       " '2022-04-09',\n",
       " '2022-04-10',\n",
       " '2022-04-12',\n",
       " '2022-04-13',\n",
       " '2022-04-14',\n",
       " '2022-04-15',\n",
       " '2022-04-16',\n",
       " '2022-04-17',\n",
       " '2022-04-19',\n",
       " '2022-04-20',\n",
       " '2022-04-21',\n",
       " '2022-04-22',\n",
       " '2022-04-23',\n",
       " '2022-04-24',\n",
       " '2022-04-26',\n",
       " '2022-04-27',\n",
       " '2022-04-28',\n",
       " '2022-04-29',\n",
       " '2022-04-30',\n",
       " '2022-05-01',\n",
       " '2022-05-03',\n",
       " '2022-05-04',\n",
       " '2022-05-05',\n",
       " '2022-05-06',\n",
       " '2022-05-07',\n",
       " '2022-05-08',\n",
       " '2022-05-10',\n",
       " '2022-05-11',\n",
       " '2022-05-12',\n",
       " '2022-05-13',\n",
       " '2022-05-14',\n",
       " '2022-05-15',\n",
       " '2022-05-17',\n",
       " '2022-05-18',\n",
       " '2022-05-19',\n",
       " '2022-05-20',\n",
       " '2022-05-21',\n",
       " '2022-05-22',\n",
       " '2022-05-24',\n",
       " '2022-05-25',\n",
       " '2022-05-26',\n",
       " '2022-05-27',\n",
       " '2022-05-28',\n",
       " '2022-05-29',\n",
       " '2022-05-30',\n",
       " '2022-05-31',\n",
       " '2022-06-01',\n",
       " '2022-06-02',\n",
       " '2022-06-03',\n",
       " '2022-06-04',\n",
       " '2022-06-05',\n",
       " '2022-06-07',\n",
       " '2022-06-08',\n",
       " '2022-06-09',\n",
       " '2022-06-10',\n",
       " '2022-06-11',\n",
       " '2022-06-12',\n",
       " '2022-06-14',\n",
       " '2022-06-15',\n",
       " '2022-06-16',\n",
       " '2022-06-17',\n",
       " '2022-06-18',\n",
       " '2022-06-19',\n",
       " '2022-06-21',\n",
       " '2022-06-22',\n",
       " '2022-06-23',\n",
       " '2022-06-24',\n",
       " '2022-06-25',\n",
       " '2022-06-26',\n",
       " '2022-06-28',\n",
       " '2022-06-29',\n",
       " '2022-06-30',\n",
       " '2022-07-01',\n",
       " '2022-07-02',\n",
       " '2022-07-03',\n",
       " '2022-07-04',\n",
       " '2022-07-05',\n",
       " '2022-07-06',\n",
       " '2022-07-07',\n",
       " '2022-07-08',\n",
       " '2022-07-09',\n",
       " '2022-07-10',\n",
       " '2022-07-12',\n",
       " '2022-07-13',\n",
       " '2022-07-14',\n",
       " '2022-07-15',\n",
       " '2022-07-16',\n",
       " '2022-07-17',\n",
       " '2022-07-22',\n",
       " '2022-07-23',\n",
       " '2022-07-24',\n",
       " '2022-07-25',\n",
       " '2022-07-26',\n",
       " '2022-07-27',\n",
       " '2022-07-28',\n",
       " '2022-07-29',\n",
       " '2022-07-30',\n",
       " '2022-07-31',\n",
       " '2022-08-02',\n",
       " '2022-08-03',\n",
       " '2022-08-04',\n",
       " '2022-08-05',\n",
       " '2022-08-06',\n",
       " '2022-08-07',\n",
       " '2022-08-09',\n",
       " '2022-08-10',\n",
       " '2022-08-11',\n",
       " '2022-08-12',\n",
       " '2022-08-13',\n",
       " '2022-08-14',\n",
       " '2022-08-15',\n",
       " '2022-08-16',\n",
       " '2022-08-17',\n",
       " '2022-08-18',\n",
       " '2022-08-19',\n",
       " '2022-08-20',\n",
       " '2022-08-21',\n",
       " '2022-08-23',\n",
       " '2022-08-24',\n",
       " '2022-08-25',\n",
       " '2022-08-26',\n",
       " '2022-08-27',\n",
       " '2022-08-28',\n",
       " '2022-08-30',\n",
       " '2022-08-31',\n",
       " '2022-09-01',\n",
       " '2022-09-02',\n",
       " '2022-09-03',\n",
       " '2022-09-04',\n",
       " '2022-09-05',\n",
       " '2022-09-06',\n",
       " '2022-09-07',\n",
       " '2022-09-08',\n",
       " '2022-09-09',\n",
       " '2022-09-10',\n",
       " '2022-09-11',\n",
       " '2022-09-13',\n",
       " '2022-09-14',\n",
       " '2022-09-15',\n",
       " '2022-09-16',\n",
       " '2022-09-17',\n",
       " '2022-09-18',\n",
       " '2022-09-19',\n",
       " '2022-09-20',\n",
       " '2022-09-21',\n",
       " '2022-09-22',\n",
       " '2022-09-23',\n",
       " '2022-09-24',\n",
       " '2022-09-25',\n",
       " '2022-09-26',\n",
       " '2022-09-27',\n",
       " '2022-09-28']"
      ]
     },
     "execution_count": 79,
     "metadata": {},
     "output_type": "execute_result"
    }
   ],
   "source": [
    "[dt['date'] for dt in obj['dates']]"
   ]
  },
  {
   "cell_type": "code",
   "execution_count": null,
   "metadata": {},
   "outputs": [],
   "source": [
    "def get_schedule_url(sport_id, season=2022):\n",
    "    return f'https://statsapi.mlb.com/api/v1/schedule?language=en&sportId={sport_id}&season={season}&sortBy=gameDate&hydrate=gameInfo'"
   ]
  },
  {
   "cell_type": "code",
   "execution_count": null,
   "metadata": {},
   "outputs": [
    {
     "data": {
      "text/plain": [
       "'https://statsapi.mlb.com/api/v1/schedule?language=en&sportId=11&season=2022&sortBy=gameDate&hydrate=gameInfo'"
      ]
     },
     "execution_count": 8,
     "metadata": {},
     "output_type": "execute_result"
    }
   ],
   "source": [
    "get_schedule_url(11)"
   ]
  },
  {
   "cell_type": "code",
   "execution_count": null,
   "metadata": {},
   "outputs": [],
   "source": [
    "sch = requests.get(get_schedule_url(11))"
   ]
  },
  {
   "cell_type": "code",
   "execution_count": null,
   "metadata": {},
   "outputs": [
    {
     "data": {
      "text/plain": [
       "125"
      ]
     },
     "execution_count": 58,
     "metadata": {},
     "output_type": "execute_result"
    }
   ],
   "source": [
    "len([(gm['gamePk'], gm['link']) for dt in sch.json()['dates'] for gm in dt['games'] if 'attendance' in gm['gameInfo']])"
   ]
  },
  {
   "cell_type": "code",
   "execution_count": null,
   "metadata": {},
   "outputs": [
    {
     "data": {
      "text/html": [
       "<div>\n",
       "<style scoped>\n",
       "    .dataframe tbody tr th:only-of-type {\n",
       "        vertical-align: middle;\n",
       "    }\n",
       "\n",
       "    .dataframe tbody tr th {\n",
       "        vertical-align: top;\n",
       "    }\n",
       "\n",
       "    .dataframe thead th {\n",
       "        text-align: right;\n",
       "    }\n",
       "</style>\n",
       "<table border=\"1\" class=\"dataframe\">\n",
       "  <thead>\n",
       "    <tr style=\"text-align: right;\">\n",
       "      <th></th>\n",
       "      <th>gameType</th>\n",
       "      <th>officialDate</th>\n",
       "      <th>dayNight</th>\n",
       "      <th>teams.away.team.id</th>\n",
       "      <th>teams.away.team.name</th>\n",
       "      <th>teams.home.team.id</th>\n",
       "      <th>teams.home.team.name</th>\n",
       "      <th>gameInfo.attendance</th>\n",
       "      <th>dayOfWeek</th>\n",
       "    </tr>\n",
       "    <tr>\n",
       "      <th>gamePk</th>\n",
       "      <th></th>\n",
       "      <th></th>\n",
       "      <th></th>\n",
       "      <th></th>\n",
       "      <th></th>\n",
       "      <th></th>\n",
       "      <th></th>\n",
       "      <th></th>\n",
       "      <th></th>\n",
       "    </tr>\n",
       "  </thead>\n",
       "  <tbody>\n",
       "    <tr>\n",
       "      <th>666415</th>\n",
       "      <td>R</td>\n",
       "      <td>2022-04-05</td>\n",
       "      <td>day</td>\n",
       "      <td>451</td>\n",
       "      <td>Iowa Cubs</td>\n",
       "      <td>422</td>\n",
       "      <td>Buffalo Bisons</td>\n",
       "      <td>10145.0</td>\n",
       "      <td>Tuesday</td>\n",
       "    </tr>\n",
       "    <tr>\n",
       "      <th>664476</th>\n",
       "      <td>R</td>\n",
       "      <td>2022-04-05</td>\n",
       "      <td>day</td>\n",
       "      <td>534</td>\n",
       "      <td>Rochester Red Wings</td>\n",
       "      <td>512</td>\n",
       "      <td>Toledo Mud Hens</td>\n",
       "      <td>10522.0</td>\n",
       "      <td>Tuesday</td>\n",
       "    </tr>\n",
       "    <tr>\n",
       "      <th>664589</th>\n",
       "      <td>R</td>\n",
       "      <td>2022-04-05</td>\n",
       "      <td>night</td>\n",
       "      <td>531</td>\n",
       "      <td>Scranton/Wilkes-Barre RailRiders</td>\n",
       "      <td>552</td>\n",
       "      <td>Syracuse Mets</td>\n",
       "      <td>6572.0</td>\n",
       "      <td>Tuesday</td>\n",
       "    </tr>\n",
       "    <tr>\n",
       "      <th>665458</th>\n",
       "      <td>R</td>\n",
       "      <td>2022-04-05</td>\n",
       "      <td>night</td>\n",
       "      <td>494</td>\n",
       "      <td>Charlotte Knights</td>\n",
       "      <td>568</td>\n",
       "      <td>Norfolk Tides</td>\n",
       "      <td>7051.0</td>\n",
       "      <td>Tuesday</td>\n",
       "    </tr>\n",
       "    <tr>\n",
       "      <th>665576</th>\n",
       "      <td>R</td>\n",
       "      <td>2022-04-05</td>\n",
       "      <td>night</td>\n",
       "      <td>1960</td>\n",
       "      <td>St. Paul Saints</td>\n",
       "      <td>416</td>\n",
       "      <td>Louisville Bats</td>\n",
       "      <td>3989.0</td>\n",
       "      <td>Tuesday</td>\n",
       "    </tr>\n",
       "    <tr>\n",
       "      <th>...</th>\n",
       "      <td>...</td>\n",
       "      <td>...</td>\n",
       "      <td>...</td>\n",
       "      <td>...</td>\n",
       "      <td>...</td>\n",
       "      <td>...</td>\n",
       "      <td>...</td>\n",
       "      <td>...</td>\n",
       "      <td>...</td>\n",
       "    </tr>\n",
       "    <tr>\n",
       "      <th>664307</th>\n",
       "      <td>R</td>\n",
       "      <td>2022-04-14</td>\n",
       "      <td>night</td>\n",
       "      <td>512</td>\n",
       "      <td>Toledo Mud Hens</td>\n",
       "      <td>451</td>\n",
       "      <td>Iowa Cubs</td>\n",
       "      <td>3030.0</td>\n",
       "      <td>Thursday</td>\n",
       "    </tr>\n",
       "    <tr>\n",
       "      <th>664689</th>\n",
       "      <td>R</td>\n",
       "      <td>2022-04-14</td>\n",
       "      <td>night</td>\n",
       "      <td>102</td>\n",
       "      <td>Round Rock Express</td>\n",
       "      <td>5434</td>\n",
       "      <td>Sugar Land Space Cowboys</td>\n",
       "      <td>2626.0</td>\n",
       "      <td>Thursday</td>\n",
       "    </tr>\n",
       "    <tr>\n",
       "      <th>664341</th>\n",
       "      <td>R</td>\n",
       "      <td>2022-04-14</td>\n",
       "      <td>night</td>\n",
       "      <td>529</td>\n",
       "      <td>Tacoma Rainiers</td>\n",
       "      <td>342</td>\n",
       "      <td>Albuquerque Isotopes</td>\n",
       "      <td>6617.0</td>\n",
       "      <td>Thursday</td>\n",
       "    </tr>\n",
       "    <tr>\n",
       "      <th>664971</th>\n",
       "      <td>R</td>\n",
       "      <td>2022-04-14</td>\n",
       "      <td>night</td>\n",
       "      <td>400</td>\n",
       "      <td>Las Vegas Aviators</td>\n",
       "      <td>561</td>\n",
       "      <td>Salt Lake Bees</td>\n",
       "      <td>2349.0</td>\n",
       "      <td>Thursday</td>\n",
       "    </tr>\n",
       "    <tr>\n",
       "      <th>666143</th>\n",
       "      <td>R</td>\n",
       "      <td>2022-04-14</td>\n",
       "      <td>night</td>\n",
       "      <td>238</td>\n",
       "      <td>Oklahoma City Dodgers</td>\n",
       "      <td>4904</td>\n",
       "      <td>El Paso Chihuahuas</td>\n",
       "      <td>7018.0</td>\n",
       "      <td>Thursday</td>\n",
       "    </tr>\n",
       "  </tbody>\n",
       "</table>\n",
       "<p>138 rows × 9 columns</p>\n",
       "</div>"
      ],
      "text/plain": [
       "       gameType officialDate dayNight  teams.away.team.id  \\\n",
       "gamePk                                                      \n",
       "666415        R   2022-04-05      day                 451   \n",
       "664476        R   2022-04-05      day                 534   \n",
       "664589        R   2022-04-05    night                 531   \n",
       "665458        R   2022-04-05    night                 494   \n",
       "665576        R   2022-04-05    night                1960   \n",
       "...         ...          ...      ...                 ...   \n",
       "664307        R   2022-04-14    night                 512   \n",
       "664689        R   2022-04-14    night                 102   \n",
       "664341        R   2022-04-14    night                 529   \n",
       "664971        R   2022-04-14    night                 400   \n",
       "666143        R   2022-04-14    night                 238   \n",
       "\n",
       "                    teams.away.team.name  teams.home.team.id  \\\n",
       "gamePk                                                         \n",
       "666415                         Iowa Cubs                 422   \n",
       "664476               Rochester Red Wings                 512   \n",
       "664589  Scranton/Wilkes-Barre RailRiders                 552   \n",
       "665458                 Charlotte Knights                 568   \n",
       "665576                   St. Paul Saints                 416   \n",
       "...                                  ...                 ...   \n",
       "664307                   Toledo Mud Hens                 451   \n",
       "664689                Round Rock Express                5434   \n",
       "664341                   Tacoma Rainiers                 342   \n",
       "664971                Las Vegas Aviators                 561   \n",
       "666143             Oklahoma City Dodgers                4904   \n",
       "\n",
       "            teams.home.team.name  gameInfo.attendance dayOfWeek  \n",
       "gamePk                                                           \n",
       "666415            Buffalo Bisons              10145.0   Tuesday  \n",
       "664476           Toledo Mud Hens              10522.0   Tuesday  \n",
       "664589             Syracuse Mets               6572.0   Tuesday  \n",
       "665458             Norfolk Tides               7051.0   Tuesday  \n",
       "665576           Louisville Bats               3989.0   Tuesday  \n",
       "...                          ...                  ...       ...  \n",
       "664307                 Iowa Cubs               3030.0  Thursday  \n",
       "664689  Sugar Land Space Cowboys               2626.0  Thursday  \n",
       "664341      Albuquerque Isotopes               6617.0  Thursday  \n",
       "664971            Salt Lake Bees               2349.0  Thursday  \n",
       "666143        El Paso Chihuahuas               7018.0  Thursday  \n",
       "\n",
       "[138 rows x 9 columns]"
      ]
     },
     "execution_count": 10,
     "metadata": {},
     "output_type": "execute_result"
    }
   ],
   "source": [
    "output = sch.json()\n",
    "fieldnames = ['gamePk', 'gameType', 'officialDate', 'dayNight',\n",
    " 'teams.away.team.id', 'teams.away.team.name', 'teams.home.team.id',\n",
    " 'teams.home.team.name', 'gameInfo.attendance']\n",
    "\n",
    "df = pd.json_normalize(output['dates'], record_path=['games'])[fieldnames].set_index('gamePk').query('officialDate < @today')\n",
    "df['dayOfWeek'] = pd.to_datetime(df['officialDate']).dt.day_name()\n",
    "df"
   ]
  },
  {
   "cell_type": "code",
   "execution_count": null,
   "metadata": {},
   "outputs": [
    {
     "data": {
      "text/plain": [
       "Wednesday    30\n",
       "Tuesday      30\n",
       "Saturday     19\n",
       "Friday       18\n",
       "Sunday       14\n",
       "Thursday     14\n",
       "Name: dayOfWeek, dtype: int64"
      ]
     },
     "execution_count": 89,
     "metadata": {},
     "output_type": "execute_result"
    }
   ],
   "source": [
    "df['dayOfWeek'].value_counts()"
   ]
  },
  {
   "cell_type": "code",
   "execution_count": null,
   "metadata": {},
   "outputs": [],
   "source": [
    "season = 2022\n",
    "\n",
    "fieldnames = ['gamePk', 'gameType', 'officialDate', 'dayNight',\n",
    " 'teams.away.team.id', 'teams.away.team.name', 'teams.home.team.id',\n",
    " 'teams.home.team.name', 'gameInfo.attendance']\n",
    "import datetime\n",
    "today = str(datetime.date.today())\n",
    "\n",
    "def get_attendance_df(sport_id):\n",
    "    sch = requests.get(get_schedule_url(sport_id, season)).json()\n",
    "    df = pd.json_normalize(sch['dates'], record_path=['games']).set_index('gamePk')\n",
    "    df['dayOfWeek'] = pd.to_datetime(df['officialDate']).dt.day_name()\n",
    "    return df\n",
    "    \n",
    "\n",
    "df = get_attendance_df(11)"
   ]
  },
  {
   "cell_type": "code",
   "execution_count": null,
   "metadata": {},
   "outputs": [
    {
     "data": {
      "text/plain": [
       "Index(['link', 'gameType', 'season', 'gameDate', 'officialDate', 'isTie',\n",
       "       'gameNumber', 'publicFacing', 'doubleHeader', 'gamedayType',\n",
       "       'tiebreaker', 'calendarEventID', 'seasonDisplay', 'dayNight',\n",
       "       'scheduledInnings', 'reverseHomeAwayStatus', 'inningBreakLength',\n",
       "       'gamesInSeries', 'seriesGameNumber', 'seriesDescription',\n",
       "       'recordSource', 'ifNecessary', 'ifNecessaryDescription',\n",
       "       'status.abstractGameState', 'status.codedGameState',\n",
       "       'status.detailedState', 'status.statusCode', 'status.startTimeTBD',\n",
       "       'status.abstractGameCode', 'teams.away.leagueRecord.wins',\n",
       "       'teams.away.leagueRecord.losses', 'teams.away.leagueRecord.pct',\n",
       "       'teams.away.score', 'teams.away.team.id', 'teams.away.team.name',\n",
       "       'teams.away.team.link', 'teams.away.isWinner', 'teams.away.splitSquad',\n",
       "       'teams.away.seriesNumber', 'teams.home.leagueRecord.wins',\n",
       "       'teams.home.leagueRecord.losses', 'teams.home.leagueRecord.pct',\n",
       "       'teams.home.score', 'teams.home.team.id', 'teams.home.team.name',\n",
       "       'teams.home.team.link', 'teams.home.isWinner', 'teams.home.splitSquad',\n",
       "       'teams.home.seriesNumber', 'venue.id', 'venue.name', 'venue.link',\n",
       "       'content.link', 'gameInfo.attendance', 'gameInfo.firstPitch',\n",
       "       'gameInfo.gameDurationMinutes', 'gameInfo.delayDurationMinutes',\n",
       "       'rescheduleDate', 'rescheduleGameDate', 'status.reason',\n",
       "       'rescheduledFrom', 'rescheduledFromDate', 'description', 'resumeDate',\n",
       "       'resumeGameDate', 'resumedFrom', 'resumedFromDate', 'dayOfWeek'],\n",
       "      dtype='object')"
      ]
     },
     "execution_count": 19,
     "metadata": {},
     "output_type": "execute_result"
    }
   ],
   "source": [
    "df.columns"
   ]
  },
  {
   "cell_type": "code",
   "execution_count": null,
   "metadata": {},
   "outputs": [
    {
     "data": {
      "text/html": [
       "<div>\n",
       "<style scoped>\n",
       "    .dataframe tbody tr th:only-of-type {\n",
       "        vertical-align: middle;\n",
       "    }\n",
       "\n",
       "    .dataframe tbody tr th {\n",
       "        vertical-align: top;\n",
       "    }\n",
       "\n",
       "    .dataframe thead th {\n",
       "        text-align: right;\n",
       "    }\n",
       "</style>\n",
       "<table border=\"1\" class=\"dataframe\">\n",
       "  <thead>\n",
       "    <tr style=\"text-align: right;\">\n",
       "      <th></th>\n",
       "      <th>link</th>\n",
       "      <th>gameType</th>\n",
       "      <th>season</th>\n",
       "      <th>gameDate</th>\n",
       "      <th>officialDate</th>\n",
       "      <th>isTie</th>\n",
       "      <th>gameNumber</th>\n",
       "      <th>publicFacing</th>\n",
       "      <th>doubleHeader</th>\n",
       "      <th>gamedayType</th>\n",
       "      <th>...</th>\n",
       "      <th>rescheduleGameDate</th>\n",
       "      <th>status.reason</th>\n",
       "      <th>rescheduledFrom</th>\n",
       "      <th>rescheduledFromDate</th>\n",
       "      <th>description</th>\n",
       "      <th>resumeDate</th>\n",
       "      <th>resumeGameDate</th>\n",
       "      <th>resumedFrom</th>\n",
       "      <th>resumedFromDate</th>\n",
       "      <th>dayOfWeek</th>\n",
       "    </tr>\n",
       "    <tr>\n",
       "      <th>gamePk</th>\n",
       "      <th></th>\n",
       "      <th></th>\n",
       "      <th></th>\n",
       "      <th></th>\n",
       "      <th></th>\n",
       "      <th></th>\n",
       "      <th></th>\n",
       "      <th></th>\n",
       "      <th></th>\n",
       "      <th></th>\n",
       "      <th></th>\n",
       "      <th></th>\n",
       "      <th></th>\n",
       "      <th></th>\n",
       "      <th></th>\n",
       "      <th></th>\n",
       "      <th></th>\n",
       "      <th></th>\n",
       "      <th></th>\n",
       "      <th></th>\n",
       "      <th></th>\n",
       "    </tr>\n",
       "  </thead>\n",
       "  <tbody>\n",
       "    <tr>\n",
       "      <th>666415</th>\n",
       "      <td>/api/v1.1/game/666415/feed/live</td>\n",
       "      <td>R</td>\n",
       "      <td>2022</td>\n",
       "      <td>2022-04-05T17:05:00Z</td>\n",
       "      <td>2022-04-05</td>\n",
       "      <td>False</td>\n",
       "      <td>1</td>\n",
       "      <td>True</td>\n",
       "      <td>N</td>\n",
       "      <td>Y</td>\n",
       "      <td>...</td>\n",
       "      <td>NaN</td>\n",
       "      <td>NaN</td>\n",
       "      <td>NaN</td>\n",
       "      <td>NaN</td>\n",
       "      <td>NaN</td>\n",
       "      <td>NaN</td>\n",
       "      <td>NaN</td>\n",
       "      <td>NaN</td>\n",
       "      <td>NaN</td>\n",
       "      <td>Tuesday</td>\n",
       "    </tr>\n",
       "    <tr>\n",
       "      <th>664476</th>\n",
       "      <td>/api/v1.1/game/664476/feed/live</td>\n",
       "      <td>R</td>\n",
       "      <td>2022</td>\n",
       "      <td>2022-04-05T20:05:00Z</td>\n",
       "      <td>2022-04-05</td>\n",
       "      <td>False</td>\n",
       "      <td>1</td>\n",
       "      <td>True</td>\n",
       "      <td>N</td>\n",
       "      <td>Y</td>\n",
       "      <td>...</td>\n",
       "      <td>NaN</td>\n",
       "      <td>NaN</td>\n",
       "      <td>NaN</td>\n",
       "      <td>NaN</td>\n",
       "      <td>NaN</td>\n",
       "      <td>NaN</td>\n",
       "      <td>NaN</td>\n",
       "      <td>NaN</td>\n",
       "      <td>NaN</td>\n",
       "      <td>Tuesday</td>\n",
       "    </tr>\n",
       "    <tr>\n",
       "      <th>664589</th>\n",
       "      <td>/api/v1.1/game/664589/feed/live</td>\n",
       "      <td>R</td>\n",
       "      <td>2022</td>\n",
       "      <td>2022-04-05T22:35:00Z</td>\n",
       "      <td>2022-04-05</td>\n",
       "      <td>False</td>\n",
       "      <td>1</td>\n",
       "      <td>True</td>\n",
       "      <td>N</td>\n",
       "      <td>Y</td>\n",
       "      <td>...</td>\n",
       "      <td>NaN</td>\n",
       "      <td>NaN</td>\n",
       "      <td>NaN</td>\n",
       "      <td>NaN</td>\n",
       "      <td>NaN</td>\n",
       "      <td>NaN</td>\n",
       "      <td>NaN</td>\n",
       "      <td>NaN</td>\n",
       "      <td>NaN</td>\n",
       "      <td>Tuesday</td>\n",
       "    </tr>\n",
       "    <tr>\n",
       "      <th>665458</th>\n",
       "      <td>/api/v1.1/game/665458/feed/live</td>\n",
       "      <td>R</td>\n",
       "      <td>2022</td>\n",
       "      <td>2022-04-05T22:35:00Z</td>\n",
       "      <td>2022-04-05</td>\n",
       "      <td>False</td>\n",
       "      <td>1</td>\n",
       "      <td>True</td>\n",
       "      <td>N</td>\n",
       "      <td>Y</td>\n",
       "      <td>...</td>\n",
       "      <td>NaN</td>\n",
       "      <td>NaN</td>\n",
       "      <td>NaN</td>\n",
       "      <td>NaN</td>\n",
       "      <td>NaN</td>\n",
       "      <td>NaN</td>\n",
       "      <td>NaN</td>\n",
       "      <td>NaN</td>\n",
       "      <td>NaN</td>\n",
       "      <td>Tuesday</td>\n",
       "    </tr>\n",
       "    <tr>\n",
       "      <th>665576</th>\n",
       "      <td>/api/v1.1/game/665576/feed/live</td>\n",
       "      <td>R</td>\n",
       "      <td>2022</td>\n",
       "      <td>2022-04-05T22:35:00Z</td>\n",
       "      <td>2022-04-05</td>\n",
       "      <td>False</td>\n",
       "      <td>1</td>\n",
       "      <td>True</td>\n",
       "      <td>N</td>\n",
       "      <td>Y</td>\n",
       "      <td>...</td>\n",
       "      <td>NaN</td>\n",
       "      <td>NaN</td>\n",
       "      <td>NaN</td>\n",
       "      <td>NaN</td>\n",
       "      <td>NaN</td>\n",
       "      <td>NaN</td>\n",
       "      <td>NaN</td>\n",
       "      <td>NaN</td>\n",
       "      <td>NaN</td>\n",
       "      <td>Tuesday</td>\n",
       "    </tr>\n",
       "    <tr>\n",
       "      <th>...</th>\n",
       "      <td>...</td>\n",
       "      <td>...</td>\n",
       "      <td>...</td>\n",
       "      <td>...</td>\n",
       "      <td>...</td>\n",
       "      <td>...</td>\n",
       "      <td>...</td>\n",
       "      <td>...</td>\n",
       "      <td>...</td>\n",
       "      <td>...</td>\n",
       "      <td>...</td>\n",
       "      <td>...</td>\n",
       "      <td>...</td>\n",
       "      <td>...</td>\n",
       "      <td>...</td>\n",
       "      <td>...</td>\n",
       "      <td>...</td>\n",
       "      <td>...</td>\n",
       "      <td>...</td>\n",
       "      <td>...</td>\n",
       "      <td>...</td>\n",
       "    </tr>\n",
       "    <tr>\n",
       "      <th>664971</th>\n",
       "      <td>/api/v1.1/game/664971/feed/live</td>\n",
       "      <td>R</td>\n",
       "      <td>2022</td>\n",
       "      <td>2022-04-15T00:35:00Z</td>\n",
       "      <td>2022-04-14</td>\n",
       "      <td>False</td>\n",
       "      <td>1</td>\n",
       "      <td>True</td>\n",
       "      <td>N</td>\n",
       "      <td>E</td>\n",
       "      <td>...</td>\n",
       "      <td>NaN</td>\n",
       "      <td>NaN</td>\n",
       "      <td>NaN</td>\n",
       "      <td>NaN</td>\n",
       "      <td>NaN</td>\n",
       "      <td>NaN</td>\n",
       "      <td>NaN</td>\n",
       "      <td>NaN</td>\n",
       "      <td>NaN</td>\n",
       "      <td>Thursday</td>\n",
       "    </tr>\n",
       "    <tr>\n",
       "      <th>666143</th>\n",
       "      <td>/api/v1.1/game/666143/feed/live</td>\n",
       "      <td>R</td>\n",
       "      <td>2022</td>\n",
       "      <td>2022-04-15T00:35:00Z</td>\n",
       "      <td>2022-04-14</td>\n",
       "      <td>False</td>\n",
       "      <td>1</td>\n",
       "      <td>True</td>\n",
       "      <td>N</td>\n",
       "      <td>E</td>\n",
       "      <td>...</td>\n",
       "      <td>NaN</td>\n",
       "      <td>NaN</td>\n",
       "      <td>NaN</td>\n",
       "      <td>NaN</td>\n",
       "      <td>NaN</td>\n",
       "      <td>NaN</td>\n",
       "      <td>NaN</td>\n",
       "      <td>NaN</td>\n",
       "      <td>NaN</td>\n",
       "      <td>Thursday</td>\n",
       "    </tr>\n",
       "    <tr>\n",
       "      <th>665253</th>\n",
       "      <td>/api/v1.1/game/665253/feed/live</td>\n",
       "      <td>R</td>\n",
       "      <td>2022</td>\n",
       "      <td>2022-04-15T17:05:00Z</td>\n",
       "      <td>2022-04-15</td>\n",
       "      <td>False</td>\n",
       "      <td>1</td>\n",
       "      <td>True</td>\n",
       "      <td>Y</td>\n",
       "      <td>Y</td>\n",
       "      <td>...</td>\n",
       "      <td>NaN</td>\n",
       "      <td>NaN</td>\n",
       "      <td>NaN</td>\n",
       "      <td>NaN</td>\n",
       "      <td>NaN</td>\n",
       "      <td>NaN</td>\n",
       "      <td>NaN</td>\n",
       "      <td>NaN</td>\n",
       "      <td>NaN</td>\n",
       "      <td>Friday</td>\n",
       "    </tr>\n",
       "    <tr>\n",
       "      <th>665090</th>\n",
       "      <td>/api/v1.1/game/665090/feed/live</td>\n",
       "      <td>R</td>\n",
       "      <td>2022</td>\n",
       "      <td>2022-04-15T17:10:00Z</td>\n",
       "      <td>2022-04-15</td>\n",
       "      <td>False</td>\n",
       "      <td>2</td>\n",
       "      <td>True</td>\n",
       "      <td>Y</td>\n",
       "      <td>Y</td>\n",
       "      <td>...</td>\n",
       "      <td>NaN</td>\n",
       "      <td>NaN</td>\n",
       "      <td>2022-04-13T22:05:00Z</td>\n",
       "      <td>2022-04-13</td>\n",
       "      <td>Makeup of 4/13 PPD</td>\n",
       "      <td>NaN</td>\n",
       "      <td>NaN</td>\n",
       "      <td>NaN</td>\n",
       "      <td>NaN</td>\n",
       "      <td>Friday</td>\n",
       "    </tr>\n",
       "    <tr>\n",
       "      <th>664398</th>\n",
       "      <td>/api/v1.1/game/664398/feed/live</td>\n",
       "      <td>R</td>\n",
       "      <td>2022</td>\n",
       "      <td>2022-04-15T20:05:00Z</td>\n",
       "      <td>2022-04-15</td>\n",
       "      <td>False</td>\n",
       "      <td>1</td>\n",
       "      <td>True</td>\n",
       "      <td>Y</td>\n",
       "      <td>Y</td>\n",
       "      <td>...</td>\n",
       "      <td>NaN</td>\n",
       "      <td>NaN</td>\n",
       "      <td>NaN</td>\n",
       "      <td>NaN</td>\n",
       "      <td>NaN</td>\n",
       "      <td>NaN</td>\n",
       "      <td>NaN</td>\n",
       "      <td>NaN</td>\n",
       "      <td>NaN</td>\n",
       "      <td>Friday</td>\n",
       "    </tr>\n",
       "  </tbody>\n",
       "</table>\n",
       "<p>135 rows × 68 columns</p>\n",
       "</div>"
      ],
      "text/plain": [
       "                                   link gameType season              gameDate  \\\n",
       "gamePk                                                                          \n",
       "666415  /api/v1.1/game/666415/feed/live        R   2022  2022-04-05T17:05:00Z   \n",
       "664476  /api/v1.1/game/664476/feed/live        R   2022  2022-04-05T20:05:00Z   \n",
       "664589  /api/v1.1/game/664589/feed/live        R   2022  2022-04-05T22:35:00Z   \n",
       "665458  /api/v1.1/game/665458/feed/live        R   2022  2022-04-05T22:35:00Z   \n",
       "665576  /api/v1.1/game/665576/feed/live        R   2022  2022-04-05T22:35:00Z   \n",
       "...                                 ...      ...    ...                   ...   \n",
       "664971  /api/v1.1/game/664971/feed/live        R   2022  2022-04-15T00:35:00Z   \n",
       "666143  /api/v1.1/game/666143/feed/live        R   2022  2022-04-15T00:35:00Z   \n",
       "665253  /api/v1.1/game/665253/feed/live        R   2022  2022-04-15T17:05:00Z   \n",
       "665090  /api/v1.1/game/665090/feed/live        R   2022  2022-04-15T17:10:00Z   \n",
       "664398  /api/v1.1/game/664398/feed/live        R   2022  2022-04-15T20:05:00Z   \n",
       "\n",
       "       officialDate  isTie  gameNumber  publicFacing doubleHeader gamedayType  \\\n",
       "gamePk                                                                          \n",
       "666415   2022-04-05  False           1          True            N           Y   \n",
       "664476   2022-04-05  False           1          True            N           Y   \n",
       "664589   2022-04-05  False           1          True            N           Y   \n",
       "665458   2022-04-05  False           1          True            N           Y   \n",
       "665576   2022-04-05  False           1          True            N           Y   \n",
       "...             ...    ...         ...           ...          ...         ...   \n",
       "664971   2022-04-14  False           1          True            N           E   \n",
       "666143   2022-04-14  False           1          True            N           E   \n",
       "665253   2022-04-15  False           1          True            Y           Y   \n",
       "665090   2022-04-15  False           2          True            Y           Y   \n",
       "664398   2022-04-15  False           1          True            Y           Y   \n",
       "\n",
       "        ... rescheduleGameDate status.reason       rescheduledFrom  \\\n",
       "gamePk  ...                                                          \n",
       "666415  ...                NaN           NaN                   NaN   \n",
       "664476  ...                NaN           NaN                   NaN   \n",
       "664589  ...                NaN           NaN                   NaN   \n",
       "665458  ...                NaN           NaN                   NaN   \n",
       "665576  ...                NaN           NaN                   NaN   \n",
       "...     ...                ...           ...                   ...   \n",
       "664971  ...                NaN           NaN                   NaN   \n",
       "666143  ...                NaN           NaN                   NaN   \n",
       "665253  ...                NaN           NaN                   NaN   \n",
       "665090  ...                NaN           NaN  2022-04-13T22:05:00Z   \n",
       "664398  ...                NaN           NaN                   NaN   \n",
       "\n",
       "       rescheduledFromDate         description  resumeDate  resumeGameDate  \\\n",
       "gamePk                                                                       \n",
       "666415                 NaN                 NaN         NaN             NaN   \n",
       "664476                 NaN                 NaN         NaN             NaN   \n",
       "664589                 NaN                 NaN         NaN             NaN   \n",
       "665458                 NaN                 NaN         NaN             NaN   \n",
       "665576                 NaN                 NaN         NaN             NaN   \n",
       "...                    ...                 ...         ...             ...   \n",
       "664971                 NaN                 NaN         NaN             NaN   \n",
       "666143                 NaN                 NaN         NaN             NaN   \n",
       "665253                 NaN                 NaN         NaN             NaN   \n",
       "665090          2022-04-13  Makeup of 4/13 PPD         NaN             NaN   \n",
       "664398                 NaN                 NaN         NaN             NaN   \n",
       "\n",
       "        resumedFrom  resumedFromDate dayOfWeek  \n",
       "gamePk                                          \n",
       "666415          NaN              NaN   Tuesday  \n",
       "664476          NaN              NaN   Tuesday  \n",
       "664589          NaN              NaN   Tuesday  \n",
       "665458          NaN              NaN   Tuesday  \n",
       "665576          NaN              NaN   Tuesday  \n",
       "...             ...              ...       ...  \n",
       "664971          NaN              NaN  Thursday  \n",
       "666143          NaN              NaN  Thursday  \n",
       "665253          NaN              NaN    Friday  \n",
       "665090          NaN              NaN    Friday  \n",
       "664398          NaN              NaN    Friday  \n",
       "\n",
       "[135 rows x 68 columns]"
      ]
     },
     "execution_count": 23,
     "metadata": {},
     "output_type": "execute_result"
    }
   ],
   "source": [
    "df.dropna(subset=['isTie'])"
   ]
  },
  {
   "cell_type": "code",
   "execution_count": null,
   "metadata": {},
   "outputs": [],
   "source": [
    "att.to_csv('test.csv')"
   ]
  },
  {
   "cell_type": "code",
   "execution_count": null,
   "metadata": {},
   "outputs": [],
   "source": [
    "def write_game_header(writer):\n",
    "    fieldnames = ['gamePk', 'date', 'dayNight', 'day', 'league_nm',\n",
    "        'attendance', 'home_id', 'home_name', 'away_id', 'away_name'\n",
    "        ]\n",
    "    writer.writerow(fieldnames)"
   ]
  },
  {
   "cell_type": "code",
   "execution_count": null,
   "metadata": {},
   "outputs": [],
   "source": [
    "def write_game_data(gm, writer):\n",
    "    data = [gm['gamePk'], gm['officialDate'], gm['dayNight'], pd.Timestamp(gm['officialDate']).day_name(), \n",
    "        gm['teams']['home']['team']['league']['name'],\n",
    "        gm['gameInfo']['attendance'],\n",
    "        gm['teams']['home']['team']['id'], gm['teams']['home']['team']['name'], \n",
    "        gm['teams']['away']['team']['id'], gm['teams']['away']['team']['name']]\n",
    "    writer.writerow(data)"
   ]
  },
  {
   "cell_type": "code",
   "execution_count": null,
   "metadata": {},
   "outputs": [],
   "source": [
    "season = 2022\n",
    "with open(f'attendance_{season}.txt', 'w', newline='') as csvfile:\n",
    "    writer = csv.writer(csvfile, delimiter=',')\n",
    "    write_game_header(writer)\n",
    "\n",
    "    for sport_id in [11, 12, 13, 14]:\n",
    "        sch = requests.get(get_schedule_url(sport_id, season))\n",
    "        for dt in sch.json()['dates']:\n",
    "            for gm in dt['games']:\n",
    "                if 'attendance' in gm['gameInfo']:\n",
    "                    write_game_data(gm, writer)\n"
   ]
  },
  {
   "cell_type": "code",
   "execution_count": null,
   "metadata": {},
   "outputs": [
    {
     "data": {
      "text/plain": [
       "{'gamePk': 670284,\n",
       " 'link': '/api/v1.1/game/670284/feed/live',\n",
       " 'gameType': 'R',\n",
       " 'season': '2022',\n",
       " 'gameDate': '2022-04-08T22:30:00Z',\n",
       " 'officialDate': '2022-04-08',\n",
       " 'status': {'abstractGameState': 'Final',\n",
       "  'codedGameState': 'F',\n",
       "  'detailedState': 'Final',\n",
       "  'statusCode': 'F',\n",
       "  'startTimeTBD': False,\n",
       "  'abstractGameCode': 'F'},\n",
       " 'teams': {'away': {'leagueRecord': {'wins': 1, 'losses': 0, 'pct': '1.000'},\n",
       "   'score': 7,\n",
       "   'team': {'allStarStatus': 'N',\n",
       "    'id': 279,\n",
       "    'name': 'Palm Beach Cardinals',\n",
       "    'link': '/api/v1/teams/279',\n",
       "    'season': 2022,\n",
       "    'venue': {'id': 2520,\n",
       "     'name': 'Roger Dean Chevrolet Stadium',\n",
       "     'link': '/api/v1/venues/2520'},\n",
       "    'teamCode': 'pbc',\n",
       "    'fileCode': 't279',\n",
       "    'abbreviation': 'PMB',\n",
       "    'teamName': 'Cardinals',\n",
       "    'locationName': 'Jupiter',\n",
       "    'firstYearOfPlay': '2003',\n",
       "    'league': {'id': 123,\n",
       "     'name': 'Florida State League',\n",
       "     'link': '/api/v1/league/123'},\n",
       "    'division': {'id': 214,\n",
       "     'name': 'Florida State League East',\n",
       "     'link': '/api/v1/divisions/214'},\n",
       "    'sport': {'id': 14, 'link': '/api/v1/sports/14', 'name': 'Single-A'},\n",
       "    'shortName': 'Palm Beach',\n",
       "    'parentOrgName': 'St. Louis Cardinals',\n",
       "    'parentOrgId': 138,\n",
       "    'franchiseName': 'Palm Beach',\n",
       "    'clubName': 'Cardinals',\n",
       "    'active': True},\n",
       "   'isWinner': True,\n",
       "   'splitSquad': False,\n",
       "   'seriesNumber': 1},\n",
       "  'home': {'leagueRecord': {'wins': 0, 'losses': 1, 'pct': '.000'},\n",
       "   'score': 5,\n",
       "   'team': {'allStarStatus': 'N',\n",
       "    'id': 479,\n",
       "    'name': 'Jupiter Hammerheads',\n",
       "    'link': '/api/v1/teams/479',\n",
       "    'season': 2022,\n",
       "    'venue': {'id': 2520,\n",
       "     'name': 'Roger Dean Chevrolet Stadium',\n",
       "     'link': '/api/v1/venues/2520'},\n",
       "    'teamCode': 'jup',\n",
       "    'fileCode': 't479',\n",
       "    'abbreviation': 'JUP',\n",
       "    'teamName': 'Hammerheads',\n",
       "    'locationName': 'Jupiter',\n",
       "    'firstYearOfPlay': '1998',\n",
       "    'league': {'id': 123,\n",
       "     'name': 'Florida State League',\n",
       "     'link': '/api/v1/league/123'},\n",
       "    'division': {'id': 214,\n",
       "     'name': 'Florida State League East',\n",
       "     'link': '/api/v1/divisions/214'},\n",
       "    'sport': {'id': 14, 'link': '/api/v1/sports/14', 'name': 'Single-A'},\n",
       "    'shortName': 'Jupiter',\n",
       "    'parentOrgName': 'Miami Marlins',\n",
       "    'parentOrgId': 146,\n",
       "    'franchiseName': 'Jupiter',\n",
       "    'clubName': 'Hammerheads',\n",
       "    'active': True},\n",
       "   'isWinner': False,\n",
       "   'splitSquad': False,\n",
       "   'seriesNumber': 1}},\n",
       " 'venue': {'id': 2520,\n",
       "  'name': 'Roger Dean Chevrolet Stadium',\n",
       "  'link': '/api/v1/venues/2520'},\n",
       " 'content': {'link': '/api/v1/game/670284/content'},\n",
       " 'isTie': False,\n",
       " 'gameInfo': {'attendance': 540,\n",
       "  'firstPitch': '2022-04-08T22:34:00.000Z',\n",
       "  'gameDurationMinutes': 173},\n",
       " 'gameNumber': 1,\n",
       " 'publicFacing': True,\n",
       " 'doubleHeader': 'N',\n",
       " 'gamedayType': 'E',\n",
       " 'tiebreaker': 'N',\n",
       " 'calendarEventID': '44-670284-2022-04-08',\n",
       " 'seasonDisplay': '2022',\n",
       " 'dayNight': 'night',\n",
       " 'scheduledInnings': 9,\n",
       " 'reverseHomeAwayStatus': False,\n",
       " 'inningBreakLength': 120,\n",
       " 'gamesInSeries': 3,\n",
       " 'seriesGameNumber': 1,\n",
       " 'seriesDescription': 'Regular Season',\n",
       " 'recordSource': 'S',\n",
       " 'ifNecessary': 'N',\n",
       " 'ifNecessaryDescription': 'Normal Game'}"
      ]
     },
     "execution_count": 141,
     "metadata": {},
     "output_type": "execute_result"
    }
   ],
   "source": [
    "gm = sch.json()['dates'][0]['games'][0]\n",
    "gm"
   ]
  },
  {
   "cell_type": "code",
   "execution_count": null,
   "metadata": {},
   "outputs": [
    {
     "data": {
      "text/plain": [
       "'Florida State League'"
      ]
     },
     "execution_count": 142,
     "metadata": {},
     "output_type": "execute_result"
    }
   ],
   "source": [
    "gm['teams']['home']['team']['league']['name']"
   ]
  },
  {
   "cell_type": "code",
   "execution_count": null,
   "metadata": {},
   "outputs": [],
   "source": [
    "import pandas as pd"
   ]
  },
  {
   "cell_type": "code",
   "execution_count": null,
   "metadata": {},
   "outputs": [
    {
     "data": {
      "text/plain": [
       "'Friday'"
      ]
     },
     "execution_count": 144,
     "metadata": {},
     "output_type": "execute_result"
    }
   ],
   "source": [
    "pd.Timestamp(gm['officialDate']).day_name()"
   ]
  },
  {
   "cell_type": "code",
   "execution_count": null,
   "metadata": {},
   "outputs": [],
   "source": []
  }
 ],
 "metadata": {
  "interpreter": {
   "hash": "cd78fef2128015050713e82ca51c6520b11aee7c9ee8df750520bbbc7384cbaa"
  },
  "kernelspec": {
   "display_name": "Python 3.8.8 ('base')",
   "language": "python",
   "name": "python3"
  },
  "language_info": {
   "codemirror_mode": {
    "name": "ipython",
    "version": 3
   },
   "file_extension": ".py",
   "mimetype": "text/x-python",
   "name": "python",
   "nbconvert_exporter": "python",
   "pygments_lexer": "ipython3",
   "version": "3.8.8"
  },
  "orig_nbformat": 4
 },
 "nbformat": 4,
 "nbformat_minor": 2
}
