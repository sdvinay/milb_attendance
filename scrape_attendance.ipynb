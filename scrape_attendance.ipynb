{
 "cells": [
  {
   "cell_type": "code",
   "execution_count": 12,
   "metadata": {},
   "outputs": [],
   "source": [
    "import pandas as pd\n",
    "import json\n",
    "import requests"
   ]
  },
  {
   "cell_type": "code",
   "execution_count": 4,
   "metadata": {},
   "outputs": [],
   "source": [
    "obj = json.load(open('attendance.json'))"
   ]
  },
  {
   "cell_type": "code",
   "execution_count": 7,
   "metadata": {},
   "outputs": [
    {
     "data": {
      "text/plain": [
       "156"
      ]
     },
     "execution_count": 7,
     "metadata": {},
     "output_type": "execute_result"
    }
   ],
   "source": [
    "len(obj['dates'])"
   ]
  },
  {
   "cell_type": "code",
   "execution_count": 9,
   "metadata": {},
   "outputs": [
    {
     "data": {
      "text/plain": [
       "15"
      ]
     },
     "execution_count": 9,
     "metadata": {},
     "output_type": "execute_result"
    }
   ],
   "source": [
    "len(obj['dates'][0]['games'])"
   ]
  },
  {
   "cell_type": "code",
   "execution_count": 10,
   "metadata": {},
   "outputs": [
    {
     "data": {
      "text/plain": [
       "{'gamePk': 666415,\n",
       " 'link': '/api/v1.1/game/666415/feed/live',\n",
       " 'gameType': 'R',\n",
       " 'season': '2022',\n",
       " 'gameDate': '2022-04-05T17:05:00Z',\n",
       " 'officialDate': '2022-04-05',\n",
       " 'status': {'abstractGameState': 'Final',\n",
       "  'codedGameState': 'F',\n",
       "  'detailedState': 'Final',\n",
       "  'statusCode': 'F',\n",
       "  'startTimeTBD': False,\n",
       "  'abstractGameCode': 'F'},\n",
       " 'teams': {'away': {'leagueRecord': {'wins': 0, 'losses': 1, 'pct': '.000'},\n",
       "   'score': 2,\n",
       "   'team': {'id': 451, 'name': 'Iowa Cubs', 'link': '/api/v1/teams/451'},\n",
       "   'isWinner': False,\n",
       "   'splitSquad': False,\n",
       "   'seriesNumber': 1},\n",
       "  'home': {'leagueRecord': {'wins': 1, 'losses': 0, 'pct': '1.000'},\n",
       "   'score': 3,\n",
       "   'team': {'id': 422, 'name': 'Buffalo Bisons', 'link': '/api/v1/teams/422'},\n",
       "   'isWinner': True,\n",
       "   'splitSquad': False,\n",
       "   'seriesNumber': 1}},\n",
       " 'venue': {'id': 2756, 'name': 'Sahlen Field', 'link': '/api/v1/venues/2756'},\n",
       " 'content': {'link': '/api/v1/game/666415/content'},\n",
       " 'isTie': False,\n",
       " 'gameNumber': 1,\n",
       " 'publicFacing': True,\n",
       " 'doubleHeader': 'N',\n",
       " 'gamedayType': 'Y',\n",
       " 'tiebreaker': 'N',\n",
       " 'calendarEventID': '44-666415-2022-04-05',\n",
       " 'seasonDisplay': '2022',\n",
       " 'dayNight': 'day',\n",
       " 'scheduledInnings': 9,\n",
       " 'reverseHomeAwayStatus': False,\n",
       " 'inningBreakLength': 120,\n",
       " 'gamesInSeries': 6,\n",
       " 'seriesGameNumber': 1,\n",
       " 'seriesDescription': 'Regular Season',\n",
       " 'recordSource': 'S',\n",
       " 'ifNecessary': 'N',\n",
       " 'ifNecessaryDescription': 'Normal Game'}"
      ]
     },
     "execution_count": 10,
     "metadata": {},
     "output_type": "execute_result"
    }
   ],
   "source": [
    "obj['dates'][0]['games'][0]"
   ]
  },
  {
   "cell_type": "code",
   "execution_count": 11,
   "metadata": {},
   "outputs": [
    {
     "data": {
      "text/plain": [
       "'/api/v1.1/game/666415/feed/live'"
      ]
     },
     "execution_count": 11,
     "metadata": {},
     "output_type": "execute_result"
    }
   ],
   "source": [
    "obj['dates'][0]['games'][0]['link']"
   ]
  },
  {
   "cell_type": "code",
   "execution_count": 32,
   "metadata": {},
   "outputs": [],
   "source": [
    "game_id=666415"
   ]
  },
  {
   "cell_type": "code",
   "execution_count": 14,
   "metadata": {},
   "outputs": [],
   "source": [
    "MLB_BASE_URL='https://statsapi.mlb.com'\n"
   ]
  },
  {
   "cell_type": "code",
   "execution_count": 15,
   "metadata": {},
   "outputs": [
    {
     "data": {
      "text/plain": [
       "'https://statsapi.mlb.com/api/v1.1/game/666415/feed/live'"
      ]
     },
     "execution_count": 15,
     "metadata": {},
     "output_type": "execute_result"
    }
   ],
   "source": [
    "\n",
    "url = MLB_BASE_URL + obj['dates'][0]['games'][0]['link']\n",
    "url"
   ]
  },
  {
   "cell_type": "code",
   "execution_count": 17,
   "metadata": {},
   "outputs": [
    {
     "data": {
      "text/plain": [
       "<Response [200]>"
      ]
     },
     "execution_count": 17,
     "metadata": {},
     "output_type": "execute_result"
    }
   ],
   "source": [
    "r = requests.get(url)\n",
    "r"
   ]
  },
  {
   "cell_type": "code",
   "execution_count": 23,
   "metadata": {},
   "outputs": [
    {
     "data": {
      "text/plain": [
       "10145"
      ]
     },
     "execution_count": 23,
     "metadata": {},
     "output_type": "execute_result"
    }
   ],
   "source": [
    "r.json()['gameData']['gameInfo']['attendance']"
   ]
  },
  {
   "cell_type": "code",
   "execution_count": 26,
   "metadata": {},
   "outputs": [
    {
     "data": {
      "text/plain": [
       "(422, 'Buffalo Bisons')"
      ]
     },
     "execution_count": 26,
     "metadata": {},
     "output_type": "execute_result"
    }
   ],
   "source": [
    "r.json()['gameData']['teams']['home']['id'], r.json()['gameData']['teams']['home']['name']"
   ]
  },
  {
   "cell_type": "code",
   "execution_count": 27,
   "metadata": {},
   "outputs": [
    {
     "data": {
      "text/plain": [
       "(451, 'Iowa Cubs')"
      ]
     },
     "execution_count": 27,
     "metadata": {},
     "output_type": "execute_result"
    }
   ],
   "source": [
    "r.json()['gameData']['teams']['away']['id'], r.json()['gameData']['teams']['away']['name']"
   ]
  },
  {
   "cell_type": "code",
   "execution_count": 29,
   "metadata": {},
   "outputs": [
    {
     "data": {
      "text/plain": [
       "'2022-04-05'"
      ]
     },
     "execution_count": 29,
     "metadata": {},
     "output_type": "execute_result"
    }
   ],
   "source": [
    "r.json()['gameData']['datetime']['originalDate']"
   ]
  },
  {
   "cell_type": "code",
   "execution_count": 33,
   "metadata": {},
   "outputs": [
    {
     "name": "stdout",
     "output_type": "stream",
     "text": [
      "666415 2022-04-05 10145 451 Iowa Cubs 451 Iowa Cubs\n"
     ]
    }
   ],
   "source": [
    "print (game_id, r.json()['gameData']['datetime']['originalDate'], r.json()['gameData']['gameInfo']['attendance'], r.json()['gameData']['teams']['away']['id'], r.json()['gameData']['teams']['away']['name'], r.json()['gameData']['teams']['away']['id'], r.json()['gameData']['teams']['away']['name'])"
   ]
  },
  {
   "cell_type": "code",
   "execution_count": 34,
   "metadata": {},
   "outputs": [],
   "source": [
    "import csv"
   ]
  },
  {
   "cell_type": "code",
   "execution_count": 37,
   "metadata": {},
   "outputs": [
    {
     "ename": "TypeError",
     "evalue": " expected at least 1 argument, got 0",
     "output_type": "error",
     "traceback": [
      "\u001b[0;31m---------------------------------------------------------------------------\u001b[0m",
      "\u001b[0;31mTypeError\u001b[0m                                 Traceback (most recent call last)",
      "\u001b[0;32m<ipython-input-37-95df92c722b6>\u001b[0m in \u001b[0;36m<module>\u001b[0;34m\u001b[0m\n\u001b[0;32m----> 1\u001b[0;31m \u001b[0mcsv\u001b[0m\u001b[0;34m.\u001b[0m\u001b[0mwriter\u001b[0m\u001b[0;34m(\u001b[0m\u001b[0;34m)\u001b[0m\u001b[0;34m.\u001b[0m\u001b[0mwrite\u001b[0m\u001b[0;34m(\u001b[0m\u001b[0mgame_id\u001b[0m\u001b[0;34m,\u001b[0m \u001b[0mr\u001b[0m\u001b[0;34m.\u001b[0m\u001b[0mjson\u001b[0m\u001b[0;34m(\u001b[0m\u001b[0;34m)\u001b[0m\u001b[0;34m[\u001b[0m\u001b[0;34m'gameData'\u001b[0m\u001b[0;34m]\u001b[0m\u001b[0;34m[\u001b[0m\u001b[0;34m'datetime'\u001b[0m\u001b[0;34m]\u001b[0m\u001b[0;34m[\u001b[0m\u001b[0;34m'originalDate'\u001b[0m\u001b[0;34m]\u001b[0m\u001b[0;34m,\u001b[0m \u001b[0mr\u001b[0m\u001b[0;34m.\u001b[0m\u001b[0mjson\u001b[0m\u001b[0;34m(\u001b[0m\u001b[0;34m)\u001b[0m\u001b[0;34m[\u001b[0m\u001b[0;34m'gameData'\u001b[0m\u001b[0;34m]\u001b[0m\u001b[0;34m[\u001b[0m\u001b[0;34m'gameInfo'\u001b[0m\u001b[0;34m]\u001b[0m\u001b[0;34m[\u001b[0m\u001b[0;34m'attendance'\u001b[0m\u001b[0;34m]\u001b[0m\u001b[0;34m,\u001b[0m \u001b[0mr\u001b[0m\u001b[0;34m.\u001b[0m\u001b[0mjson\u001b[0m\u001b[0;34m(\u001b[0m\u001b[0;34m)\u001b[0m\u001b[0;34m[\u001b[0m\u001b[0;34m'gameData'\u001b[0m\u001b[0;34m]\u001b[0m\u001b[0;34m[\u001b[0m\u001b[0;34m'teams'\u001b[0m\u001b[0;34m]\u001b[0m\u001b[0;34m[\u001b[0m\u001b[0;34m'away'\u001b[0m\u001b[0;34m]\u001b[0m\u001b[0;34m[\u001b[0m\u001b[0;34m'id'\u001b[0m\u001b[0;34m]\u001b[0m\u001b[0;34m,\u001b[0m \u001b[0mr\u001b[0m\u001b[0;34m.\u001b[0m\u001b[0mjson\u001b[0m\u001b[0;34m(\u001b[0m\u001b[0;34m)\u001b[0m\u001b[0;34m[\u001b[0m\u001b[0;34m'gameData'\u001b[0m\u001b[0;34m]\u001b[0m\u001b[0;34m[\u001b[0m\u001b[0;34m'teams'\u001b[0m\u001b[0;34m]\u001b[0m\u001b[0;34m[\u001b[0m\u001b[0;34m'away'\u001b[0m\u001b[0;34m]\u001b[0m\u001b[0;34m[\u001b[0m\u001b[0;34m'name'\u001b[0m\u001b[0;34m]\u001b[0m\u001b[0;34m,\u001b[0m \u001b[0mr\u001b[0m\u001b[0;34m.\u001b[0m\u001b[0mjson\u001b[0m\u001b[0;34m(\u001b[0m\u001b[0;34m)\u001b[0m\u001b[0;34m[\u001b[0m\u001b[0;34m'gameData'\u001b[0m\u001b[0;34m]\u001b[0m\u001b[0;34m[\u001b[0m\u001b[0;34m'teams'\u001b[0m\u001b[0;34m]\u001b[0m\u001b[0;34m[\u001b[0m\u001b[0;34m'away'\u001b[0m\u001b[0;34m]\u001b[0m\u001b[0;34m[\u001b[0m\u001b[0;34m'id'\u001b[0m\u001b[0;34m]\u001b[0m\u001b[0;34m,\u001b[0m \u001b[0mr\u001b[0m\u001b[0;34m.\u001b[0m\u001b[0mjson\u001b[0m\u001b[0;34m(\u001b[0m\u001b[0;34m)\u001b[0m\u001b[0;34m[\u001b[0m\u001b[0;34m'gameData'\u001b[0m\u001b[0;34m]\u001b[0m\u001b[0;34m[\u001b[0m\u001b[0;34m'teams'\u001b[0m\u001b[0;34m]\u001b[0m\u001b[0;34m[\u001b[0m\u001b[0;34m'away'\u001b[0m\u001b[0;34m]\u001b[0m\u001b[0;34m[\u001b[0m\u001b[0;34m'name'\u001b[0m\u001b[0;34m]\u001b[0m\u001b[0;34m)\u001b[0m\u001b[0;34m\u001b[0m\u001b[0;34m\u001b[0m\u001b[0m\n\u001b[0m",
      "\u001b[0;31mTypeError\u001b[0m:  expected at least 1 argument, got 0"
     ]
    }
   ],
   "source": [
    "csv.writer().write("
   ]
  },
  {
   "cell_type": "code",
   "execution_count": 44,
   "metadata": {},
   "outputs": [],
   "source": [
    "data = [game_id, r.json()['gameData']['datetime']['originalDate'], r.json()['gameData']['gameInfo']['attendance'],\n",
    " r.json()['gameData']['teams']['home']['id'], r.json()['gameData']['teams']['home']['name'], \n",
    " r.json()['gameData']['teams']['away']['id'], r.json()['gameData']['teams']['away']['name']]\n",
    "\n",
    "\n",
    "    writer.writerow(data)"
   ]
  },
  {
   "cell_type": "code",
   "execution_count": 45,
   "metadata": {},
   "outputs": [],
   "source": [
    "def write_game_data(game_id, game_url, writer):\n",
    "    r = requests.get(game_url)\n",
    "\n",
    "    data = [game_id, r.json()['gameData']['datetime']['originalDate'], r.json()['gameData']['gameInfo']['attendance'],\n",
    "        r.json()['gameData']['teams']['home']['id'], r.json()['gameData']['teams']['home']['name'], \n",
    "        r.json()['gameData']['teams']['away']['id'], r.json()['gameData']['teams']['away']['name']]\n",
    "    writer.writerow(data)"
   ]
  },
  {
   "cell_type": "code",
   "execution_count": 47,
   "metadata": {},
   "outputs": [],
   "source": [
    "with open('attendance.csv', 'w', newline='') as csvfile:\n",
    "    writer = csv.writer(csvfile, delimiter=',')\n",
    "    write_game_data(game_id, url, writer)"
   ]
  },
  {
   "cell_type": "code",
   "execution_count": 48,
   "metadata": {},
   "outputs": [
    {
     "data": {
      "text/plain": [
       "666415"
      ]
     },
     "execution_count": 48,
     "metadata": {},
     "output_type": "execute_result"
    }
   ],
   "source": [
    "obj['dates'][0]['games'][0]['gamePk']"
   ]
  },
  {
   "cell_type": "code",
   "execution_count": 50,
   "metadata": {},
   "outputs": [
    {
     "data": {
      "text/plain": [
       "'https://statsapi.mlb.com/api/v1.1/game/666415/feed/live'"
      ]
     },
     "execution_count": 50,
     "metadata": {},
     "output_type": "execute_result"
    }
   ],
   "source": [
    "MLB_BASE_URL +  obj['dates'][0]['games'][0]['link']"
   ]
  },
  {
   "cell_type": "code",
   "execution_count": 80,
   "metadata": {},
   "outputs": [
    {
     "data": {
      "text/plain": [
       "95"
      ]
     },
     "execution_count": 80,
     "metadata": {},
     "output_type": "execute_result"
    }
   ],
   "source": [
    "all_games = [(gm['gamePk'], MLB_BASE_URL +  gm['link']) for dt in obj['dates'][0:6] for gm in dt['games']]\n",
    "len(all_games)"
   ]
  },
  {
   "cell_type": "code",
   "execution_count": 73,
   "metadata": {},
   "outputs": [
    {
     "data": {
      "text/plain": [
       "15"
      ]
     },
     "execution_count": 73,
     "metadata": {},
     "output_type": "execute_result"
    }
   ],
   "source": [
    "all_games = [(gm['gamePk'], MLB_BASE_URL +  gm['link'])  for gm in obj['dates'][0]['games']]\n",
    "len(all_games)"
   ]
  },
  {
   "cell_type": "code",
   "execution_count": 81,
   "metadata": {},
   "outputs": [
    {
     "name": "stdout",
     "output_type": "stream",
     "text": [
      "666415\n",
      "664476\n",
      "664589\n",
      "665458\n",
      "665576\n",
      "666070\n",
      "665849\n",
      "665715\n",
      "665487\n",
      "665309\n",
      "665604\n",
      "665133\n",
      "664604\n",
      "665004\n",
      "665767\n",
      "665589\n",
      "666374\n",
      "664475\n",
      "664588\n",
      "665395\n",
      "665575\n",
      "665848\n",
      "665664\n",
      "665477\n",
      "665306\n",
      "665132\n",
      "664600\n",
      "665015\n",
      "665759\n",
      "666051\n",
      "665457\n",
      "666069\n",
      "666051\n",
      "664474\n",
      "665574\n",
      "665841\n",
      "665476\n",
      "665543\n",
      "665307\n",
      "665102\n",
      "665040\n",
      "664599\n",
      "665758\n",
      "666407\n",
      "664612\n",
      "665663\n",
      "664717\n",
      "664612\n",
      "666391\n",
      "666407\n",
      "664483\n",
      "666068\n",
      "665843\n",
      "664321\n",
      "665681\n",
      "665573\n",
      "665520\n",
      "665327\n",
      "665542\n",
      "665106\n",
      "665023\n",
      "665730\n",
      "664603\n",
      "666362\n",
      "665626\n",
      "665612\n",
      "665662\n",
      "665663\n",
      "664481\n",
      "664602\n",
      "664603\n",
      "666042\n",
      "664716\n",
      "665840\n",
      "664355\n",
      "665051\n",
      "665519\n",
      "665318\n",
      "664953\n",
      "665738\n",
      "666414\n",
      "664354\n",
      "665572\n",
      "666041\n",
      "665680\n",
      "664515\n",
      "665047\n",
      "665341\n",
      "665541\n",
      "665518\n",
      "665857\n",
      "665737\n",
      "664958\n",
      "664601\n",
      "key error 664715\n"
     ]
    }
   ],
   "source": [
    "with open('attendance.csv', 'w', newline='') as csvfile:\n",
    "    writer = csv.writer(csvfile, delimiter=',')\n",
    "    for gm in all_games:\n",
    "        try:\n",
    "            write_game_data(gm[0], gm[1], writer)\n",
    "            print(gm[0])\n",
    "        except KeyError:\n",
    "            print(f\"key error {gm[0]}\")\n"
   ]
  },
  {
   "cell_type": "code",
   "execution_count": 75,
   "metadata": {},
   "outputs": [
    {
     "data": {
      "text/plain": [
       "156"
      ]
     },
     "execution_count": 75,
     "metadata": {},
     "output_type": "execute_result"
    }
   ],
   "source": [
    "len()"
   ]
  },
  {
   "cell_type": "code",
   "execution_count": 78,
   "metadata": {},
   "outputs": [
    {
     "data": {
      "text/plain": [
       "'2022-04-05'"
      ]
     },
     "execution_count": 78,
     "metadata": {},
     "output_type": "execute_result"
    }
   ],
   "source": [
    "obj['dates'][0]['date']"
   ]
  },
  {
   "cell_type": "code",
   "execution_count": 79,
   "metadata": {},
   "outputs": [
    {
     "data": {
      "text/plain": [
       "['2022-04-05',\n",
       " '2022-04-06',\n",
       " '2022-04-07',\n",
       " '2022-04-08',\n",
       " '2022-04-09',\n",
       " '2022-04-10',\n",
       " '2022-04-12',\n",
       " '2022-04-13',\n",
       " '2022-04-14',\n",
       " '2022-04-15',\n",
       " '2022-04-16',\n",
       " '2022-04-17',\n",
       " '2022-04-19',\n",
       " '2022-04-20',\n",
       " '2022-04-21',\n",
       " '2022-04-22',\n",
       " '2022-04-23',\n",
       " '2022-04-24',\n",
       " '2022-04-26',\n",
       " '2022-04-27',\n",
       " '2022-04-28',\n",
       " '2022-04-29',\n",
       " '2022-04-30',\n",
       " '2022-05-01',\n",
       " '2022-05-03',\n",
       " '2022-05-04',\n",
       " '2022-05-05',\n",
       " '2022-05-06',\n",
       " '2022-05-07',\n",
       " '2022-05-08',\n",
       " '2022-05-10',\n",
       " '2022-05-11',\n",
       " '2022-05-12',\n",
       " '2022-05-13',\n",
       " '2022-05-14',\n",
       " '2022-05-15',\n",
       " '2022-05-17',\n",
       " '2022-05-18',\n",
       " '2022-05-19',\n",
       " '2022-05-20',\n",
       " '2022-05-21',\n",
       " '2022-05-22',\n",
       " '2022-05-24',\n",
       " '2022-05-25',\n",
       " '2022-05-26',\n",
       " '2022-05-27',\n",
       " '2022-05-28',\n",
       " '2022-05-29',\n",
       " '2022-05-30',\n",
       " '2022-05-31',\n",
       " '2022-06-01',\n",
       " '2022-06-02',\n",
       " '2022-06-03',\n",
       " '2022-06-04',\n",
       " '2022-06-05',\n",
       " '2022-06-07',\n",
       " '2022-06-08',\n",
       " '2022-06-09',\n",
       " '2022-06-10',\n",
       " '2022-06-11',\n",
       " '2022-06-12',\n",
       " '2022-06-14',\n",
       " '2022-06-15',\n",
       " '2022-06-16',\n",
       " '2022-06-17',\n",
       " '2022-06-18',\n",
       " '2022-06-19',\n",
       " '2022-06-21',\n",
       " '2022-06-22',\n",
       " '2022-06-23',\n",
       " '2022-06-24',\n",
       " '2022-06-25',\n",
       " '2022-06-26',\n",
       " '2022-06-28',\n",
       " '2022-06-29',\n",
       " '2022-06-30',\n",
       " '2022-07-01',\n",
       " '2022-07-02',\n",
       " '2022-07-03',\n",
       " '2022-07-04',\n",
       " '2022-07-05',\n",
       " '2022-07-06',\n",
       " '2022-07-07',\n",
       " '2022-07-08',\n",
       " '2022-07-09',\n",
       " '2022-07-10',\n",
       " '2022-07-12',\n",
       " '2022-07-13',\n",
       " '2022-07-14',\n",
       " '2022-07-15',\n",
       " '2022-07-16',\n",
       " '2022-07-17',\n",
       " '2022-07-22',\n",
       " '2022-07-23',\n",
       " '2022-07-24',\n",
       " '2022-07-25',\n",
       " '2022-07-26',\n",
       " '2022-07-27',\n",
       " '2022-07-28',\n",
       " '2022-07-29',\n",
       " '2022-07-30',\n",
       " '2022-07-31',\n",
       " '2022-08-02',\n",
       " '2022-08-03',\n",
       " '2022-08-04',\n",
       " '2022-08-05',\n",
       " '2022-08-06',\n",
       " '2022-08-07',\n",
       " '2022-08-09',\n",
       " '2022-08-10',\n",
       " '2022-08-11',\n",
       " '2022-08-12',\n",
       " '2022-08-13',\n",
       " '2022-08-14',\n",
       " '2022-08-15',\n",
       " '2022-08-16',\n",
       " '2022-08-17',\n",
       " '2022-08-18',\n",
       " '2022-08-19',\n",
       " '2022-08-20',\n",
       " '2022-08-21',\n",
       " '2022-08-23',\n",
       " '2022-08-24',\n",
       " '2022-08-25',\n",
       " '2022-08-26',\n",
       " '2022-08-27',\n",
       " '2022-08-28',\n",
       " '2022-08-30',\n",
       " '2022-08-31',\n",
       " '2022-09-01',\n",
       " '2022-09-02',\n",
       " '2022-09-03',\n",
       " '2022-09-04',\n",
       " '2022-09-05',\n",
       " '2022-09-06',\n",
       " '2022-09-07',\n",
       " '2022-09-08',\n",
       " '2022-09-09',\n",
       " '2022-09-10',\n",
       " '2022-09-11',\n",
       " '2022-09-13',\n",
       " '2022-09-14',\n",
       " '2022-09-15',\n",
       " '2022-09-16',\n",
       " '2022-09-17',\n",
       " '2022-09-18',\n",
       " '2022-09-19',\n",
       " '2022-09-20',\n",
       " '2022-09-21',\n",
       " '2022-09-22',\n",
       " '2022-09-23',\n",
       " '2022-09-24',\n",
       " '2022-09-25',\n",
       " '2022-09-26',\n",
       " '2022-09-27',\n",
       " '2022-09-28']"
      ]
     },
     "execution_count": 79,
     "metadata": {},
     "output_type": "execute_result"
    }
   ],
   "source": [
    "[dt['date'] for dt in obj['dates']]"
   ]
  },
  {
   "cell_type": "code",
   "execution_count": 131,
   "metadata": {},
   "outputs": [],
   "source": [
    "def get_schedule_url(sport_id, season=2022):\n",
    "    return f'https://statsapi.mlb.com/api/v1/schedule?language=en&sportId={sport_id}&season={season}&sortBy=gameDate&hydrate=gameInfo,team'"
   ]
  },
  {
   "cell_type": "code",
   "execution_count": 132,
   "metadata": {},
   "outputs": [
    {
     "data": {
      "text/plain": [
       "'https://statsapi.mlb.com/api/v1/schedule?language=en&sportId=11&season=2022&sortBy=gameDate&hydrate=gameInfo,team'"
      ]
     },
     "execution_count": 132,
     "metadata": {},
     "output_type": "execute_result"
    }
   ],
   "source": [
    "get_schedule_url(11)"
   ]
  },
  {
   "cell_type": "code",
   "execution_count": 123,
   "metadata": {},
   "outputs": [],
   "source": [
    "sch = requests.get(get_schedule_url(11))"
   ]
  },
  {
   "cell_type": "code",
   "execution_count": 99,
   "metadata": {},
   "outputs": [
    {
     "data": {
      "text/plain": [
       "94"
      ]
     },
     "execution_count": 99,
     "metadata": {},
     "output_type": "execute_result"
    }
   ],
   "source": [
    "len([(gm['gamePk'], gm['link']) for dt in sch.json()['dates'] for gm in dt['games'] if 'attendance' in gm['gameInfo']])"
   ]
  },
  {
   "cell_type": "code",
   "execution_count": 129,
   "metadata": {},
   "outputs": [],
   "source": [
    "def write_game_data(gm, writer):\n",
    "    data = [gm['gamePk'], gm['officialDate'], gm['dayNight'], pd.Timestamp(gm['officialDate']).day_name(), \n",
    "        gm['teams']['home']['team']['league']['name'],\n",
    "        gm['gameInfo']['attendance'],\n",
    "        gm['teams']['home']['team']['id'], gm['teams']['home']['team']['name'], \n",
    "        gm['teams']['away']['team']['id'], gm['teams']['away']['team']['name']]\n",
    "    writer.writerow(data)"
   ]
  },
  {
   "cell_type": "code",
   "execution_count": 140,
   "metadata": {},
   "outputs": [],
   "source": [
    "season = 2022\n",
    "with open(f'attendance_{season}.txt', 'w', newline='') as csvfile:\n",
    "    writer = csv.writer(csvfile, delimiter=',')\n",
    "\n",
    "    for sport_id in [11, 12, 13, 14]:\n",
    "        sch = requests.get(get_schedule_url(sport_id, season))\n",
    "        for dt in sch.json()['dates']:\n",
    "            for gm in dt['games']:\n",
    "                if 'attendance' in gm['gameInfo']:\n",
    "                    write_game_data(gm, writer)\n"
   ]
  },
  {
   "cell_type": "code",
   "execution_count": 141,
   "metadata": {},
   "outputs": [
    {
     "data": {
      "text/plain": [
       "{'gamePk': 670284,\n",
       " 'link': '/api/v1.1/game/670284/feed/live',\n",
       " 'gameType': 'R',\n",
       " 'season': '2022',\n",
       " 'gameDate': '2022-04-08T22:30:00Z',\n",
       " 'officialDate': '2022-04-08',\n",
       " 'status': {'abstractGameState': 'Final',\n",
       "  'codedGameState': 'F',\n",
       "  'detailedState': 'Final',\n",
       "  'statusCode': 'F',\n",
       "  'startTimeTBD': False,\n",
       "  'abstractGameCode': 'F'},\n",
       " 'teams': {'away': {'leagueRecord': {'wins': 1, 'losses': 0, 'pct': '1.000'},\n",
       "   'score': 7,\n",
       "   'team': {'allStarStatus': 'N',\n",
       "    'id': 279,\n",
       "    'name': 'Palm Beach Cardinals',\n",
       "    'link': '/api/v1/teams/279',\n",
       "    'season': 2022,\n",
       "    'venue': {'id': 2520,\n",
       "     'name': 'Roger Dean Chevrolet Stadium',\n",
       "     'link': '/api/v1/venues/2520'},\n",
       "    'teamCode': 'pbc',\n",
       "    'fileCode': 't279',\n",
       "    'abbreviation': 'PMB',\n",
       "    'teamName': 'Cardinals',\n",
       "    'locationName': 'Jupiter',\n",
       "    'firstYearOfPlay': '2003',\n",
       "    'league': {'id': 123,\n",
       "     'name': 'Florida State League',\n",
       "     'link': '/api/v1/league/123'},\n",
       "    'division': {'id': 214,\n",
       "     'name': 'Florida State League East',\n",
       "     'link': '/api/v1/divisions/214'},\n",
       "    'sport': {'id': 14, 'link': '/api/v1/sports/14', 'name': 'Single-A'},\n",
       "    'shortName': 'Palm Beach',\n",
       "    'parentOrgName': 'St. Louis Cardinals',\n",
       "    'parentOrgId': 138,\n",
       "    'franchiseName': 'Palm Beach',\n",
       "    'clubName': 'Cardinals',\n",
       "    'active': True},\n",
       "   'isWinner': True,\n",
       "   'splitSquad': False,\n",
       "   'seriesNumber': 1},\n",
       "  'home': {'leagueRecord': {'wins': 0, 'losses': 1, 'pct': '.000'},\n",
       "   'score': 5,\n",
       "   'team': {'allStarStatus': 'N',\n",
       "    'id': 479,\n",
       "    'name': 'Jupiter Hammerheads',\n",
       "    'link': '/api/v1/teams/479',\n",
       "    'season': 2022,\n",
       "    'venue': {'id': 2520,\n",
       "     'name': 'Roger Dean Chevrolet Stadium',\n",
       "     'link': '/api/v1/venues/2520'},\n",
       "    'teamCode': 'jup',\n",
       "    'fileCode': 't479',\n",
       "    'abbreviation': 'JUP',\n",
       "    'teamName': 'Hammerheads',\n",
       "    'locationName': 'Jupiter',\n",
       "    'firstYearOfPlay': '1998',\n",
       "    'league': {'id': 123,\n",
       "     'name': 'Florida State League',\n",
       "     'link': '/api/v1/league/123'},\n",
       "    'division': {'id': 214,\n",
       "     'name': 'Florida State League East',\n",
       "     'link': '/api/v1/divisions/214'},\n",
       "    'sport': {'id': 14, 'link': '/api/v1/sports/14', 'name': 'Single-A'},\n",
       "    'shortName': 'Jupiter',\n",
       "    'parentOrgName': 'Miami Marlins',\n",
       "    'parentOrgId': 146,\n",
       "    'franchiseName': 'Jupiter',\n",
       "    'clubName': 'Hammerheads',\n",
       "    'active': True},\n",
       "   'isWinner': False,\n",
       "   'splitSquad': False,\n",
       "   'seriesNumber': 1}},\n",
       " 'venue': {'id': 2520,\n",
       "  'name': 'Roger Dean Chevrolet Stadium',\n",
       "  'link': '/api/v1/venues/2520'},\n",
       " 'content': {'link': '/api/v1/game/670284/content'},\n",
       " 'isTie': False,\n",
       " 'gameInfo': {'attendance': 540,\n",
       "  'firstPitch': '2022-04-08T22:34:00.000Z',\n",
       "  'gameDurationMinutes': 173},\n",
       " 'gameNumber': 1,\n",
       " 'publicFacing': True,\n",
       " 'doubleHeader': 'N',\n",
       " 'gamedayType': 'E',\n",
       " 'tiebreaker': 'N',\n",
       " 'calendarEventID': '44-670284-2022-04-08',\n",
       " 'seasonDisplay': '2022',\n",
       " 'dayNight': 'night',\n",
       " 'scheduledInnings': 9,\n",
       " 'reverseHomeAwayStatus': False,\n",
       " 'inningBreakLength': 120,\n",
       " 'gamesInSeries': 3,\n",
       " 'seriesGameNumber': 1,\n",
       " 'seriesDescription': 'Regular Season',\n",
       " 'recordSource': 'S',\n",
       " 'ifNecessary': 'N',\n",
       " 'ifNecessaryDescription': 'Normal Game'}"
      ]
     },
     "execution_count": 141,
     "metadata": {},
     "output_type": "execute_result"
    }
   ],
   "source": [
    "gm = sch.json()['dates'][0]['games'][0]\n",
    "gm"
   ]
  },
  {
   "cell_type": "code",
   "execution_count": 142,
   "metadata": {},
   "outputs": [
    {
     "data": {
      "text/plain": [
       "'Florida State League'"
      ]
     },
     "execution_count": 142,
     "metadata": {},
     "output_type": "execute_result"
    }
   ],
   "source": [
    "gm['teams']['home']['team']['league']['name']"
   ]
  },
  {
   "cell_type": "code",
   "execution_count": 143,
   "metadata": {},
   "outputs": [],
   "source": [
    "import pandas as pd"
   ]
  },
  {
   "cell_type": "code",
   "execution_count": 144,
   "metadata": {},
   "outputs": [
    {
     "data": {
      "text/plain": [
       "'Friday'"
      ]
     },
     "execution_count": 144,
     "metadata": {},
     "output_type": "execute_result"
    }
   ],
   "source": [
    "pd.Timestamp(gm['officialDate']).day_name()"
   ]
  },
  {
   "cell_type": "code",
   "execution_count": null,
   "metadata": {},
   "outputs": [],
   "source": []
  }
 ],
 "metadata": {
  "interpreter": {
   "hash": "cd78fef2128015050713e82ca51c6520b11aee7c9ee8df750520bbbc7384cbaa"
  },
  "kernelspec": {
   "display_name": "Python 3.8.8 ('base')",
   "language": "python",
   "name": "python3"
  },
  "language_info": {
   "codemirror_mode": {
    "name": "ipython",
    "version": 3
   },
   "file_extension": ".py",
   "mimetype": "text/x-python",
   "name": "python",
   "nbconvert_exporter": "python",
   "pygments_lexer": "ipython3",
   "version": "3.8.8"
  },
  "orig_nbformat": 4
 },
 "nbformat": 4,
 "nbformat_minor": 2
}
